{
 "cells": [
  {
   "cell_type": "markdown",
   "metadata": {},
   "source": [
    "### 2.1.2019\n",
    "### Funkce na stahování akcií\n",
    "### Využití jednak pro Revolut, ale hlavně pro diplomku - stahování dat\n",
    "\n",
    "#### 5.1. už mám returns, plot řady i returns, load faktorů z excelu EU/US\n",
    "#### 15.1. dlouho nic moc, dnes jen opravena data faktorů v excelu\n",
    "#### 19.1. Dnes udělána plošná regrese, vtupy jsou proměnná, počet faktorů, split.\n",
    "#### 21.-22.1. Loading CSV - header, formát data, loading podle inputu\n",
    "* Řeším lepší gruppen plot\n",
    "* kontrola merge, že mi dobře doléhá datum stocku a faktorů\n",
    "* kontrola dropna() že to funguje dobře a že nemám NANs uvnitř\n",
    "* Teď pracuju s Daily, možná budou lepší Monthly !! nebude jich 7.000 ale jen 250"
   ]
  },
  {
   "cell_type": "code",
   "execution_count": null,
   "metadata": {},
   "outputs": [],
   "source": []
  },
  {
   "cell_type": "markdown",
   "metadata": {},
   "source": [
    "Je pravda, že jde o to, zjistit jestli cena akcie rost kvůli rostoucí hodnotě podkladu (kvalita firmy), nebo roste cena jen kvůli zvýšenímu zájmu, což může být samovyživovací bublina?\n"
   ]
  },
  {
   "cell_type": "markdown",
   "metadata": {},
   "source": [
    "# Obsah"
   ]
  },
  {
   "cell_type": "markdown",
   "metadata": {},
   "source": [
    "1. Import Packages\n",
    "2. Scrapping Stocks + Visualize\n",
    "3. ARIMA\n",
    "4. Factors\n",
    "5. Regression\n",
    "6. LSTM - simple time series\n",
    "7. LSTM - time series + factors"
   ]
  },
  {
   "cell_type": "markdown",
   "metadata": {},
   "source": [
    "# 1. Import Packages"
   ]
  },
  {
   "cell_type": "code",
   "execution_count": 1,
   "metadata": {},
   "outputs": [
    {
     "name": "stderr",
     "output_type": "stream",
     "text": [
      "C:\\Users\\jiri.zelenka\\AppData\\Local\\Continuum\\anaconda3\\lib\\site-packages\\h5py\\__init__.py:36: FutureWarning: Conversion of the second argument of issubdtype from `float` to `np.floating` is deprecated. In future, it will be treated as `np.float64 == np.dtype(float).type`.\n",
      "  from ._conv import register_converters as _register_converters\n",
      "Using TensorFlow backend.\n"
     ]
    }
   ],
   "source": [
    "\n",
    "# 1.) Obecné\n",
    "import pandas as pd\n",
    "import matplotlib.pyplot as plt\n",
    "from matplotlib.pyplot import figure  \n",
    "import numpy as np\n",
    "import math\n",
    "from pandas import DataFrame\n",
    "from math import sqrt\n",
    "from datetime import datetime\n",
    "import csv\n",
    "\n",
    "# 2.) Scrapping\n",
    "import requests # for robots check\n",
    "import lxml.html as lh\n",
    "from bs4 import BeautifulSoup\n",
    "\n",
    "from selenium import webdriver\n",
    "from selenium.webdriver.common.action_chains import ActionChains      # ?????\n",
    "from time import sleep\n",
    "\n",
    "# 3.) REGRESE\n",
    "import statsmodels.api as sm\n",
    "from sklearn.preprocessing import MinMaxScaler\n",
    "from sklearn.metrics import mean_squared_error\n",
    "\n",
    "# 4.) LSTM\n",
    "from keras.models import Sequential\n",
    "from keras.layers import Dense\n",
    "from keras.layers import LSTM\n"
   ]
  },
  {
   "cell_type": "code",
   "execution_count": null,
   "metadata": {},
   "outputs": [],
   "source": [
    "# print(requests.get(\"https://finance.yahoo.com/robots.txt\").text)"
   ]
  },
  {
   "cell_type": "markdown",
   "metadata": {},
   "source": [
    "# 2. Scrapping Stocks + Visualize"
   ]
  },
  {
   "cell_type": "markdown",
   "metadata": {},
   "source": [
    "### Data Download"
   ]
  },
  {
   "cell_type": "code",
   "execution_count": null,
   "metadata": {},
   "outputs": [],
   "source": [
    "\n",
    "\n",
    "def data_dwn(stocks):\n",
    "\n",
    "    browser = webdriver.Chrome()\n",
    "\n",
    "    for i in stocks:\n",
    "\n",
    "        url = \"https://finance.yahoo.com/quote/\" + str(i) + \"/history?period1=10104800&period2=1577919600&interval=1d&filter=history&frequency=1d\"\n",
    "        browser.get(url)\n",
    "\n",
    "        # Tohle mi odklikne OK warning a pustí mě to na stránku\n",
    "\n",
    "        try:\n",
    "            play = browser.find_elements_by_xpath('/html/body/div/div/div/form/div/button[2]')[0]\n",
    "            hover = ActionChains(browser).move_to_element(play)\n",
    "            hover.perform()\n",
    "            play.click()\n",
    "\n",
    "        except:\n",
    "            pass\n",
    "        \n",
    "        sleep(5)    # 3 sec bylo málo .. 5sec mi zvládlo už 8/9 místo 5/9 bez chyby\n",
    "        play = browser.find_elements_by_xpath('//*[@id=\"Col1-1-HistoricalDataTable-Proxy\"]/section/div[1]/div[2]/span[2]')[0]\n",
    "        hover = ActionChains(browser).move_to_element(play)\n",
    "        hover.perform()\n",
    "        play.click()\n",
    "        \n",
    "#############################################################################\n",
    "\n",
    "akcie = [\"AAPL\", \"AMZN\", \"FB\", \"GOOG\",\"NFLX\", \"NKE\", \"SBUX\", \"TSLA\", \"XIACF\"]\n",
    "\n",
    "#akcie = [\"ATVI\", \"BABA\", \"AAL\", \"T\",\"BIDU\", \"BB\", \"BKNG\", \"CAJ\", \"CSCO\"]\n",
    "\n",
    "#akcie = [\"CLDR\", \"KO\", \"CROX\", \"DELL\", \"DAL\", \"DBX\", \"EBAY\", \"EA\", \"XOM\"]\n",
    "\n",
    "\n",
    "#data_dwn(akcie)"
   ]
  },
  {
   "cell_type": "markdown",
   "metadata": {},
   "source": [
    "### Data import + merge"
   ]
  },
  {
   "cell_type": "code",
   "execution_count": null,
   "metadata": {},
   "outputs": [],
   "source": [
    "\n",
    "\n",
    "def load_all_csv(path, price, stocks):\n",
    "    \n",
    "    data = pd.DataFrame()\n",
    "    \n",
    "    for i in stocks:\n",
    "    \n",
    "        df = pd.read_csv(path + i + '.csv')\n",
    "        df = df[[\"Date\", price]]\n",
    "        df = pd.DataFrame(df, columns= ['Date', price])\n",
    "        df.columns = [\"Date \" + i , i]\n",
    "        df = df.iloc[::-1]\n",
    "# Otočení pořadí, aby se matchovaly nejnovější hodnoty\n",
    "        df.reset_index(drop = True,inplace=True)\n",
    "        \n",
    "        data = pd.concat([data, df], axis=1)\n",
    "        df = data\n",
    "    \n",
    "    return df\n",
    "\n",
    "#############################################################################\n",
    "\n",
    "cesta = \"C:/Users/jiri.zelenka/Downloads/\"\n",
    "cena = \"Close\"\n",
    "\n",
    "#data = load_all_csv(cesta, cena, akcie)"
   ]
  },
  {
   "cell_type": "markdown",
   "metadata": {},
   "source": [
    "### Date + otočení zpět"
   ]
  },
  {
   "cell_type": "code",
   "execution_count": null,
   "metadata": {},
   "outputs": [],
   "source": [
    "\n",
    "\n",
    "def date_all(df):\n",
    "\n",
    "    df[\"Date\"] = np.nan\n",
    "    df[\"Date2\"] = np.nan\n",
    "\n",
    "    for i in akcie:\n",
    "        if df[\"Date \" + i].isnull().iloc[len(df)-1] + 1 == 1:\n",
    "\n",
    "            df[\"Date\"] = df[\"Date \" + i]\n",
    "\n",
    "    # Zajímavý poznatek:\n",
    "\n",
    "    # pokud testuju value, tak 0= false, 1 = true\n",
    "    # ale pokud už k výsledku něco přičtu a mám třeba 1 a 2, tak to 1 už ale není TRUE !!!\n",
    "\n",
    "    df[\"Date2\"] = df[\"Date\"]\n",
    "\n",
    "    df = df.iloc[:, 1:2+len(akcie)*2:2]\n",
    "    \n",
    "    df = df.iloc[::-1]\n",
    "# Otočení zpátky\n",
    "    df.reset_index(drop = True,inplace=True)\n",
    "\n",
    "    return df\n",
    "\n",
    "#############################################################################\n",
    "\n",
    "#data = date_all(data)"
   ]
  },
  {
   "cell_type": "markdown",
   "metadata": {},
   "source": [
    "### Difference = Return"
   ]
  },
  {
   "cell_type": "code",
   "execution_count": null,
   "metadata": {},
   "outputs": [],
   "source": [
    "\n",
    "\n",
    "def diff_returns(df):\n",
    "    for i in akcie:\n",
    "        df[\"Returns \" + i] = df[i].shift(+1)\n",
    "        df[\"Returns \" + i] = (df[i]/df[\"Returns \" + i]) -1\n",
    "        \n",
    "        # Elegantní, rychlé, bez řešení řádků - Shift a pak celý loupec dělený celým sloupcem\n",
    "        \n",
    "    return df\n",
    "\n",
    "#############################################################################\n",
    "\n",
    "#data = diff_returns(data)"
   ]
  },
  {
   "cell_type": "markdown",
   "metadata": {},
   "source": [
    "### Basic Plot"
   ]
  },
  {
   "cell_type": "code",
   "execution_count": null,
   "metadata": {},
   "outputs": [],
   "source": [
    "\n",
    "####!!!!\n",
    "# Předělat If, else - If else Pass na elif\n",
    "#### !!!\n",
    "\n",
    "def basic_plots(df,cols):\n",
    "\n",
    "    fig, axs = plt.subplots(3, 3)\n",
    "\n",
    "    ## Nedaří se mi zautmoatizovat, ani tvar ani plotování\n",
    "    \n",
    "    if cols == \"akcie\":\n",
    "    \n",
    "        axs[0, 0].plot(df[akcie[0]], 'tab:blue')\n",
    "        axs[0, 0].set_title(akcie[0])\n",
    "        axs[0, 1].plot(df[akcie[1]], 'tab:orange')\n",
    "        axs[0, 1].set_title(akcie[1])\n",
    "        axs[0, 2].plot(df[akcie[2]], 'tab:green')\n",
    "        axs[0, 2].set_title(akcie[2])\n",
    "        axs[1, 0].plot(df[akcie[3]], 'tab:red')\n",
    "        axs[1, 0].set_title(akcie[3])\n",
    "        axs[1, 1].plot(df[akcie[4]], 'tab:blue')\n",
    "        axs[1, 1].set_title(akcie[4])\n",
    "        axs[1, 2].plot(df[akcie[5]], 'tab:orange')\n",
    "        axs[1, 2].set_title(akcie[5])\n",
    "        axs[2, 0].plot(df[akcie[6]], 'tab:green')\n",
    "        axs[2, 0].set_title(akcie[6])\n",
    "        axs[2, 1].plot(df[akcie[7]], 'tab:red')\n",
    "        axs[2, 1].set_title(akcie[7])\n",
    "        axs[2, 2].plot(df[akcie[8]], 'tab:blue')\n",
    "        axs[2, 2].set_title(akcie[8])\n",
    "\n",
    "\n",
    "        fig = plt.gcf()\n",
    "        fig.set_size_inches(18.5, 10.5)\n",
    "        \n",
    "    else:\n",
    "            \n",
    "        if cols == \"returns\":\n",
    "\n",
    "            axs[0, 0].plot(df[\"Returns \" + akcie[0]], 'tab:blue')\n",
    "            axs[0, 0].set_title(\"Returns \" + akcie[0])\n",
    "            axs[0, 1].plot(df[\"Returns \" + akcie[1]], 'tab:orange')\n",
    "            axs[0, 1].set_title(\"Returns \" + akcie[1])\n",
    "            axs[0, 2].plot(df[\"Returns \" + akcie[2]], 'tab:green')\n",
    "            axs[0, 2].set_title(\"Returns \" + akcie[2])\n",
    "            axs[1, 0].plot(df[\"Returns \" + akcie[3]], 'tab:red')\n",
    "            axs[1, 0].set_title(\"Returns \" + akcie[3])\n",
    "            axs[1, 1].plot(df[\"Returns \" + akcie[4]], 'tab:blue')\n",
    "            axs[1, 1].set_title(\"Returns \" + akcie[4])\n",
    "            axs[1, 2].plot(df[\"Returns \" + akcie[5]], 'tab:orange')\n",
    "            axs[1, 2].set_title(\"Returns \" + akcie[5])\n",
    "            axs[2, 0].plot(df[\"Returns \" + akcie[6]], 'tab:green')\n",
    "            axs[2, 0].set_title(\"Returns \" + akcie[6])\n",
    "            axs[2, 1].plot(df[\"Returns \" + akcie[7]], 'tab:red')\n",
    "            axs[2, 1].set_title(\"Returns \" + akcie[7])\n",
    "            axs[2, 2].plot(df[\"Returns \" + akcie[8]], 'tab:blue')\n",
    "            axs[2, 2].set_title(\"Returns \" + akcie[8])\n",
    "            \n",
    "            fig = plt.gcf()\n",
    "            fig.set_size_inches(18.5, 10.5)\n",
    "            \n",
    "        else:\n",
    "            pass\n",
    "        \n",
    "#############################################################################\n",
    "\n",
    "#basic_plots(data, \"akcie\")\n",
    "#basic_plots(data, \"returns\")"
   ]
  },
  {
   "cell_type": "code",
   "execution_count": null,
   "metadata": {},
   "outputs": [],
   "source": [
    "# Mixed plot\n",
    "\n",
    "#for i in akcie:\n",
    "\n",
    "#    display(plt.plot(data[i].dropna()))\n"
   ]
  },
  {
   "cell_type": "markdown",
   "metadata": {},
   "source": [
    "### Statistiky řad"
   ]
  },
  {
   "cell_type": "code",
   "execution_count": null,
   "metadata": {},
   "outputs": [],
   "source": [
    "# data.describe()"
   ]
  },
  {
   "cell_type": "markdown",
   "metadata": {},
   "source": [
    "## Load + Date + Plot + Stat + Difference + Plot"
   ]
  },
  {
   "cell_type": "code",
   "execution_count": 168,
   "metadata": {},
   "outputs": [
    {
     "ename": "NameError",
     "evalue": "name 'diff_returns' is not defined",
     "output_type": "error",
     "traceback": [
      "\u001b[1;31m---------------------------------------------------------------------------\u001b[0m",
      "\u001b[1;31mNameError\u001b[0m                                 Traceback (most recent call last)",
      "\u001b[1;32m<ipython-input-168-abe4a48ec874>\u001b[0m in \u001b[0;36m<module>\u001b[1;34m()\u001b[0m\n\u001b[0;32m     20\u001b[0m \u001b[1;31m#akcie = [\"CLDR\", \"KO\", \"CROX\", \"DELL\", \"DAL\", \"DBX\", \"EBAY\", \"EA\", \"XOM\"]\u001b[0m\u001b[1;33m\u001b[0m\u001b[1;33m\u001b[0m\u001b[0m\n\u001b[0;32m     21\u001b[0m \u001b[1;33m\u001b[0m\u001b[0m\n\u001b[1;32m---> 22\u001b[1;33m \u001b[0mdata\u001b[0m \u001b[1;33m=\u001b[0m \u001b[0mload_date_plot_stat\u001b[0m\u001b[1;33m(\u001b[0m\u001b[0mcesta\u001b[0m\u001b[1;33m,\u001b[0m \u001b[0mcena\u001b[0m\u001b[1;33m,\u001b[0m \u001b[0makcie\u001b[0m\u001b[1;33m)\u001b[0m\u001b[1;33m\u001b[0m\u001b[0m\n\u001b[0m\u001b[0;32m     23\u001b[0m \u001b[0mdisplay\u001b[0m\u001b[1;33m(\u001b[0m\u001b[0mdata\u001b[0m\u001b[1;33m.\u001b[0m\u001b[0mhead\u001b[0m\u001b[1;33m(\u001b[0m\u001b[1;33m)\u001b[0m\u001b[1;33m)\u001b[0m\u001b[1;33m\u001b[0m\u001b[0m\n\u001b[0;32m     24\u001b[0m \u001b[0mdisplay\u001b[0m\u001b[1;33m(\u001b[0m\u001b[0mdata\u001b[0m\u001b[1;33m.\u001b[0m\u001b[0mtail\u001b[0m\u001b[1;33m(\u001b[0m\u001b[1;33m)\u001b[0m\u001b[1;33m)\u001b[0m\u001b[1;33m\u001b[0m\u001b[0m\n",
      "\u001b[1;32m<ipython-input-168-abe4a48ec874>\u001b[0m in \u001b[0;36mload_date_plot_stat\u001b[1;34m(path, price, stocks)\u001b[0m\n\u001b[0;32m      1\u001b[0m \u001b[1;32mdef\u001b[0m \u001b[0mload_date_plot_stat\u001b[0m\u001b[1;33m(\u001b[0m\u001b[0mpath\u001b[0m\u001b[1;33m,\u001b[0m \u001b[0mprice\u001b[0m\u001b[1;33m,\u001b[0m \u001b[0mstocks\u001b[0m\u001b[1;33m)\u001b[0m\u001b[1;33m:\u001b[0m\u001b[1;33m\u001b[0m\u001b[0m\n\u001b[0;32m      2\u001b[0m \u001b[1;33m\u001b[0m\u001b[0m\n\u001b[1;32m----> 3\u001b[1;33m         \u001b[0mdf\u001b[0m \u001b[1;33m=\u001b[0m \u001b[0mdiff_returns\u001b[0m\u001b[1;33m(\u001b[0m\u001b[0mdate_all\u001b[0m\u001b[1;33m(\u001b[0m\u001b[0mload_all_csv\u001b[0m\u001b[1;33m(\u001b[0m\u001b[0mcesta\u001b[0m\u001b[1;33m,\u001b[0m \u001b[0mcena\u001b[0m\u001b[1;33m,\u001b[0m \u001b[0makcie\u001b[0m\u001b[1;33m)\u001b[0m\u001b[1;33m)\u001b[0m\u001b[1;33m)\u001b[0m\u001b[1;33m\u001b[0m\u001b[0m\n\u001b[0m\u001b[0;32m      4\u001b[0m \u001b[1;33m\u001b[0m\u001b[0m\n\u001b[0;32m      5\u001b[0m         \u001b[0mdisplay\u001b[0m\u001b[1;33m(\u001b[0m\u001b[0mdf\u001b[0m\u001b[1;33m.\u001b[0m\u001b[0mdescribe\u001b[0m\u001b[1;33m(\u001b[0m\u001b[1;33m)\u001b[0m\u001b[1;33m)\u001b[0m\u001b[1;33m\u001b[0m\u001b[0m\n",
      "\u001b[1;31mNameError\u001b[0m: name 'diff_returns' is not defined"
     ]
    }
   ],
   "source": [
    "\n",
    "def load_date_plot_stat(path, price, stocks):\n",
    "    \n",
    "        df = diff_returns(date_all(load_all_csv(cesta, cena, akcie)))\n",
    "            \n",
    "        display(df.describe())\n",
    "        basic_plots(df, \"akcie\")\n",
    "        basic_plots(df, \"returns\")\n",
    "        return df\n",
    "\n",
    "    # Zajímavé: {display, plot, return} - pokud spustím fci přímo, zobrazí se všechny tři věci\n",
    "    # Pokud spustím fuknkci jako var = fce(), tak return se nezobrazí, ale právě uloží do proměnné -> viz níže\n",
    "    \n",
    "#############################################################################   \n",
    "\n",
    "cesta = \"C:/Users/jiri.zelenka/Desktop/Python/Akcie_diplomka/stocks/\"\n",
    "cena = \"Close\"\n",
    "\n",
    "#akcie = [\"AAPL\", \"AMZN\", \"FB\", \"GOOG\",\"NFLX\", \"NKE\", \"SBUX\", \"TSLA\", \"XIACF\"]\n",
    "akcie = [\"ATVI\", \"BABA\", \"AAL\", \"T\",\"BIDU\", \"BB\", \"BKNG\", \"CAJ\", \"CSCO\"]\n",
    "#akcie = [\"CLDR\", \"KO\", \"CROX\", \"DELL\", \"DAL\", \"DBX\", \"EBAY\", \"EA\", \"XOM\"]\n",
    "\n",
    "#data = load_date_plot_stat(cesta, cena, akcie)\n",
    "display(data.head())\n",
    "display(data.tail())"
   ]
  },
  {
   "cell_type": "markdown",
   "metadata": {},
   "source": [
    "### Save the data"
   ]
  },
  {
   "cell_type": "code",
   "execution_count": null,
   "metadata": {},
   "outputs": [],
   "source": [
    "# data.to_excel(r\"data \"+ akcie[0]+ \" - \" + akcie[len(akcie)-1] + \" total_\" + str(len(akcie)) + \".xlsx\")"
   ]
  },
  {
   "cell_type": "markdown",
   "metadata": {},
   "source": [
    "# 3. ARIMA"
   ]
  },
  {
   "cell_type": "code",
   "execution_count": null,
   "metadata": {},
   "outputs": [],
   "source": [
    "from pandas.plotting import autocorrelation_plot\n",
    "from statsmodels.graphics.tsaplots import plot_pacf\n",
    "\n",
    "from statsmodels.tsa.arima_model import ARIMA"
   ]
  },
  {
   "cell_type": "code",
   "execution_count": null,
   "metadata": {},
   "outputs": [],
   "source": [
    "def autocorr_plots(df):\n",
    "\n",
    "    autocorrelation_plot(data[\"XIACF\"].dropna())\n",
    "    autocorrelation_plot(data[\"NKE\"].dropna())\n",
    "\n",
    "\n",
    "    fig = plt.gcf()\n",
    "    fig.set_size_inches(10.5, 6.5)\n",
    "\n",
    "    \n",
    "#autocorr_plots(data)\n"
   ]
  },
  {
   "cell_type": "code",
   "execution_count": null,
   "metadata": {},
   "outputs": [],
   "source": [
    "\n",
    "# Datacamp:\n",
    "\n",
    "data[\"Returns CAJ\"].dropna().autocorr()\n"
   ]
  },
  {
   "cell_type": "code",
   "execution_count": null,
   "metadata": {},
   "outputs": [],
   "source": [
    "#autocorrelation_plot(data[\"AMZN\"].dropna())"
   ]
  },
  {
   "cell_type": "code",
   "execution_count": null,
   "metadata": {},
   "outputs": [],
   "source": [
    "#autocorrelation_plot(data[\"Returns AMZN\"].dropna())"
   ]
  },
  {
   "cell_type": "code",
   "execution_count": null,
   "metadata": {},
   "outputs": [],
   "source": [
    "#autocorrelation_plot(data[\"AAPL\"].dropna())"
   ]
  },
  {
   "cell_type": "code",
   "execution_count": null,
   "metadata": {},
   "outputs": [],
   "source": [
    "#autocorrelation_plot(data[\"Returns AAPL\"].dropna())"
   ]
  },
  {
   "cell_type": "code",
   "execution_count": null,
   "metadata": {},
   "outputs": [],
   "source": [
    "#autocorrelation_plot(data[\"FB\"].dropna())"
   ]
  },
  {
   "cell_type": "code",
   "execution_count": null,
   "metadata": {},
   "outputs": [],
   "source": [
    "#autocorrelation_plot(data[\"Returns FB\"].dropna())"
   ]
  },
  {
   "cell_type": "code",
   "execution_count": null,
   "metadata": {},
   "outputs": [],
   "source": [
    "#autocorrelation_plot(data[\"GOOG\"].dropna())"
   ]
  },
  {
   "cell_type": "code",
   "execution_count": null,
   "metadata": {},
   "outputs": [],
   "source": [
    "#autocorrelation_plot(data[\"Returns GOOG\"].dropna())"
   ]
  },
  {
   "cell_type": "code",
   "execution_count": null,
   "metadata": {},
   "outputs": [],
   "source": [
    "#autocorrelation_plot(data[\"NFLX\"].dropna())"
   ]
  },
  {
   "cell_type": "code",
   "execution_count": null,
   "metadata": {},
   "outputs": [],
   "source": [
    "#autocorrelation_plot(data[\"Returns NFLX\"].dropna())"
   ]
  },
  {
   "cell_type": "code",
   "execution_count": null,
   "metadata": {},
   "outputs": [],
   "source": [
    "#autocorrelation_plot(data[\"NKE\"].dropna())"
   ]
  },
  {
   "cell_type": "code",
   "execution_count": null,
   "metadata": {},
   "outputs": [],
   "source": [
    "#autocorrelation_plot(data[\"Returns NKE\"].dropna())"
   ]
  },
  {
   "cell_type": "code",
   "execution_count": null,
   "metadata": {},
   "outputs": [],
   "source": [
    "#autocorrelation_plot(data[\"SBUX\"].dropna())"
   ]
  },
  {
   "cell_type": "code",
   "execution_count": null,
   "metadata": {},
   "outputs": [],
   "source": [
    "#autocorrelation_plot(data[\"Returns SBUX\"].dropna())"
   ]
  },
  {
   "cell_type": "code",
   "execution_count": null,
   "metadata": {},
   "outputs": [],
   "source": [
    "#autocorrelation_plot(data[\"TSLA\"].dropna())"
   ]
  },
  {
   "cell_type": "code",
   "execution_count": null,
   "metadata": {},
   "outputs": [],
   "source": [
    "#autocorrelation_plot(data[\"Returns TSLA\"].dropna())"
   ]
  },
  {
   "cell_type": "code",
   "execution_count": null,
   "metadata": {},
   "outputs": [],
   "source": [
    "#autocorrelation_plot(data[\"XIACF\"].dropna())"
   ]
  },
  {
   "cell_type": "code",
   "execution_count": null,
   "metadata": {},
   "outputs": [],
   "source": [
    "#autocorrelation_plot(data[\"Returns XIACF\"].dropna())"
   ]
  },
  {
   "cell_type": "code",
   "execution_count": null,
   "metadata": {},
   "outputs": [],
   "source": []
  },
  {
   "cell_type": "code",
   "execution_count": null,
   "metadata": {},
   "outputs": [],
   "source": [
    "model = ARIMA(data[\"CAJ\"].dropna(), order=(1,1,1))    #(1,1,1) i (2,1,2) dává dost signifikantní výsledky, vyšší čísla už sekají výpočty\n",
    "model_fit = model.fit(disp=0)\n",
    "print(model_fit.summary())"
   ]
  },
  {
   "cell_type": "code",
   "execution_count": null,
   "metadata": {},
   "outputs": [],
   "source": [
    "residuals = DataFrame(model_fit.resid)\n",
    "residuals.plot()\n",
    "plt.show()\n",
    "residuals.plot(kind='kde')\n",
    "plt.show()\n",
    "print(residuals.describe())"
   ]
  },
  {
   "cell_type": "code",
   "execution_count": null,
   "metadata": {},
   "outputs": [],
   "source": [
    "\n"
   ]
  },
  {
   "cell_type": "markdown",
   "metadata": {},
   "source": [
    "# 4. Factors"
   ]
  },
  {
   "cell_type": "markdown",
   "metadata": {},
   "source": [
    "### Scrapping factors"
   ]
  },
  {
   "cell_type": "code",
   "execution_count": null,
   "metadata": {},
   "outputs": [],
   "source": []
  },
  {
   "cell_type": "markdown",
   "metadata": {},
   "source": [
    "### Loading CSV with correct header"
   ]
  },
  {
   "cell_type": "markdown",
   "metadata": {},
   "source": [
    "#### Not working for me:"
   ]
  },
  {
   "cell_type": "code",
   "execution_count": 129,
   "metadata": {},
   "outputs": [
    {
     "data": {
      "text/plain": [
       "False"
      ]
     },
     "metadata": {},
     "output_type": "display_data"
    },
    {
     "data": {
      "text/plain": [
       "nan"
      ]
     },
     "metadata": {},
     "output_type": "display_data"
    },
    {
     "data": {
      "text/plain": [
       "nan"
      ]
     },
     "metadata": {},
     "output_type": "display_data"
    },
    {
     "data": {
      "text/html": [
       "<div>\n",
       "<style scoped>\n",
       "    .dataframe tbody tr th:only-of-type {\n",
       "        vertical-align: middle;\n",
       "    }\n",
       "\n",
       "    .dataframe tbody tr th {\n",
       "        vertical-align: top;\n",
       "    }\n",
       "\n",
       "    .dataframe thead th {\n",
       "        text-align: right;\n",
       "    }\n",
       "</style>\n",
       "<table border=\"1\" class=\"dataframe\">\n",
       "  <thead>\n",
       "    <tr style=\"text-align: right;\">\n",
       "      <th></th>\n",
       "      <th>0</th>\n",
       "      <th>1</th>\n",
       "      <th>2</th>\n",
       "      <th>3</th>\n",
       "      <th>4</th>\n",
       "      <th>5</th>\n",
       "      <th>6</th>\n",
       "    </tr>\n",
       "  </thead>\n",
       "  <tbody>\n",
       "    <tr>\n",
       "      <th>0</th>\n",
       "      <td>NaN</td>\n",
       "      <td>Mkt-RF</td>\n",
       "      <td>SMB</td>\n",
       "      <td>HML</td>\n",
       "      <td>RMW</td>\n",
       "      <td>CMA</td>\n",
       "      <td>RF</td>\n",
       "    </tr>\n",
       "    <tr>\n",
       "      <th>1</th>\n",
       "      <td>19630701.0</td>\n",
       "      <td>-0.67</td>\n",
       "      <td>0.00</td>\n",
       "      <td>-0.32</td>\n",
       "      <td>-0.01</td>\n",
       "      <td>0.15</td>\n",
       "      <td>0.012</td>\n",
       "    </tr>\n",
       "    <tr>\n",
       "      <th>2</th>\n",
       "      <td>19630702.0</td>\n",
       "      <td>0.79</td>\n",
       "      <td>-0.27</td>\n",
       "      <td>0.27</td>\n",
       "      <td>-0.07</td>\n",
       "      <td>-0.19</td>\n",
       "      <td>0.012</td>\n",
       "    </tr>\n",
       "    <tr>\n",
       "      <th>3</th>\n",
       "      <td>19630703.0</td>\n",
       "      <td>0.63</td>\n",
       "      <td>-0.17</td>\n",
       "      <td>-0.09</td>\n",
       "      <td>0.17</td>\n",
       "      <td>-0.33</td>\n",
       "      <td>0.012</td>\n",
       "    </tr>\n",
       "    <tr>\n",
       "      <th>4</th>\n",
       "      <td>19630705.0</td>\n",
       "      <td>0.40</td>\n",
       "      <td>0.08</td>\n",
       "      <td>-0.28</td>\n",
       "      <td>0.08</td>\n",
       "      <td>-0.33</td>\n",
       "      <td>0.012</td>\n",
       "    </tr>\n",
       "  </tbody>\n",
       "</table>\n",
       "</div>"
      ],
      "text/plain": [
       "            0         1         2         3         4         5         6\n",
       "0         NaN    Mkt-RF       SMB       HML       RMW       CMA        RF\n",
       "1  19630701.0     -0.67      0.00     -0.32     -0.01      0.15     0.012\n",
       "2  19630702.0      0.79     -0.27      0.27     -0.07     -0.19     0.012\n",
       "3  19630703.0      0.63     -0.17     -0.09      0.17     -0.33     0.012\n",
       "4  19630705.0      0.40      0.08     -0.28      0.08     -0.33     0.012"
      ]
     },
     "execution_count": 129,
     "metadata": {},
     "output_type": "execute_result"
    }
   ],
   "source": [
    "################################################################################################################################################x\n",
    "import csv\n",
    "reader = csv.DictReader(open(\"C:/Users/jiri.zelenka/Desktop/Python/Akcie_diplomka/factors/Five_factors_EU_daily.csv\"))\n",
    "\"\"\"if reader.fieldnames[0][0] == \"T\":\n",
    "    df7 = pd.read_csv(\"C:/Users/jiri.zelenka/Desktop/Python/Akcie_diplomka/factors/Five_factors_EU_daily.csv\", skiprows = 1)\n",
    "else:\n",
    "    pass\n",
    "df7\n",
    "\"\"\"\n",
    "\n",
    "print(reader.fieldnames[0])\n",
    "\n",
    "\n",
    "\"\"\"\n",
    "i=1\n",
    "\n",
    "while reader.fieldnames[0][0] != \",\":\n",
    "    i = i+1\n",
    "    print(i)\"\"\"\n",
    "\n",
    "## kjk\n",
    "################################################################################################################################################x\n",
    "with open(\"C:/Users/jiri.zelenka/Desktop/Python/Akcie_diplomka/factors/Five_factors_EU_daily.csv\", 'r') as f:\n",
    "    d_reader = csv.DictReader(f)\n",
    "\n",
    "    #get fieldnames from DictReader object and store in list\n",
    "    headers = d_reader.fieldnames\n",
    "\n",
    "    for line in d_reader:\n",
    "        #print value in MyCol1 for each row\n",
    "        print(line)\n",
    "################################################################################################################################################x\n",
    "with open(\"C:/Users/jiri.zelenka/Desktop/Python/Akcie_diplomka/factors/Five_factors_EU_daily.csv\", 'r') as f:\n",
    "    #you can eat the first line before creating DictReader.\n",
    "    #if no \"fieldnames\" param is passed into\n",
    "    #DictReader object upon creation, DictReader\n",
    "    #will read the upper-most line as the headers\n",
    "    f.readline()\n",
    "\n",
    "    d_reader = csv.DictReader(f)\n",
    "    for row in d_reader:\n",
    "        print(row)\n",
    "################################################################################################################################################x\n",
    "df7 = pd.read_csv(\"C:/Users/jiri.zelenka/Desktop/Python/Akcie_diplomka/factors/Five_factors_US_daily.csv\", skiprows = 2, header = None)\n",
    "display(type(df7.iloc[0].iloc[0])==str)\n",
    "display(df7[0][0])\n",
    "display(df7.iloc[0].iloc[0])\n",
    "df7.head()\n",
    "\n",
    "# Kombinace skip = 12, header = None mi nefunguje na Momentum_US_daily, protože tam pak [0][0] nemám žádný string, jen na [1][0]\n",
    "# jinak skiprows + header = None fungovala snad na všechno.\n",
    "# Pro změnu kombinace úplně bez headeru mi zase nefunguje na monthly data ,které jsou celé string.\n",
    "\n",
    "################################################################################################################################################\n",
    "i = 0\n",
    "path = \"C:/Users/jiri.zelenka/Desktop/Python/Akcie_diplomka/factors/Momentum_US_daily.csv\"\n",
    "\n",
    "while True :\n",
    "    try:\n",
    "        df = pd.read_csv(path, skiprows = i, header = None)\n",
    "        \n",
    "        if df.iloc[0].iloc[0] in [\"RF\", \"CMA\"]:          # Jeden z problémů: Nejde použít STRING, protože v EU_monthly jsou i čísla jako stringy...// v Momentum taky.. ?\n",
    "            i = i+1                                  # Takže budu muset zůstat u detekce RF a CMA .... smutné ale je to tak\n",
    "        else:\n",
    "            data = pd.read_csv(path , skiprows = i, header = None)\n",
    "            break\n",
    "    except:\n",
    "        i = i+1\n",
    "        \n",
    "data.head(15)"
   ]
  },
  {
   "cell_type": "markdown",
   "metadata": {},
   "source": [
    "#### Finally working for me:"
   ]
  },
  {
   "cell_type": "code",
   "execution_count": 230,
   "metadata": {},
   "outputs": [
    {
     "data": {
      "text/html": [
       "<div>\n",
       "<style scoped>\n",
       "    .dataframe tbody tr th:only-of-type {\n",
       "        vertical-align: middle;\n",
       "    }\n",
       "\n",
       "    .dataframe tbody tr th {\n",
       "        vertical-align: top;\n",
       "    }\n",
       "\n",
       "    .dataframe thead th {\n",
       "        text-align: right;\n",
       "    }\n",
       "</style>\n",
       "<table border=\"1\" class=\"dataframe\">\n",
       "  <thead>\n",
       "    <tr style=\"text-align: right;\">\n",
       "      <th></th>\n",
       "      <th>Unnamed: 0</th>\n",
       "      <th>Mom</th>\n",
       "    </tr>\n",
       "  </thead>\n",
       "  <tbody>\n",
       "    <tr>\n",
       "      <th>0</th>\n",
       "      <td>19261103</td>\n",
       "      <td>0.57</td>\n",
       "    </tr>\n",
       "    <tr>\n",
       "      <th>1</th>\n",
       "      <td>19261104</td>\n",
       "      <td>-0.52</td>\n",
       "    </tr>\n",
       "    <tr>\n",
       "      <th>2</th>\n",
       "      <td>19261105</td>\n",
       "      <td>1.15</td>\n",
       "    </tr>\n",
       "    <tr>\n",
       "      <th>3</th>\n",
       "      <td>19261106</td>\n",
       "      <td>-0.04</td>\n",
       "    </tr>\n",
       "    <tr>\n",
       "      <th>4</th>\n",
       "      <td>19261108</td>\n",
       "      <td>-0.01</td>\n",
       "    </tr>\n",
       "  </tbody>\n",
       "</table>\n",
       "</div>"
      ],
      "text/plain": [
       "  Unnamed: 0  Mom   \n",
       "0   19261103    0.57\n",
       "1   19261104   -0.52\n",
       "2   19261105    1.15\n",
       "3   19261106   -0.04\n",
       "4   19261108   -0.01"
      ]
     },
     "execution_count": 230,
     "metadata": {},
     "output_type": "execute_result"
    }
   ],
   "source": [
    "\n",
    "def find_header_and_load(full_path):\n",
    "\n",
    "    pos= 0\n",
    "    oldpos = None\n",
    "\n",
    "    with open(full_path, 'r') as fp:\n",
    "\n",
    "        while pos != oldpos:  # make sure we stop reading, in case we reach EOF\n",
    "            line= fp.readline()\n",
    "            if line.startswith(\",\"):\n",
    "                fp.seek(pos)                  \n",
    "                break\n",
    "            oldpos = pos \n",
    "            pos = fp.tell()    # renenber this position as sthe start of the next line ############x ?? Je to podobnéjako +1 ??\n",
    "\n",
    "        df = pd.read_csv(fp)\n",
    "        \n",
    "    return df\n",
    "\n",
    "# Seek and Tell:\n",
    "# https://www.youtube.com/watch?v=SEURXzTgvKI\n",
    "\n",
    "# Odkaz od Davida:\n",
    "# https://stackoverflow.com/questions/14881885/python-pandas-read-csv-file-with-variable-preamble-length?fbclid=IwAR166rOeOxm16qJ7NWoB_tHz1M9JgfCIlORcsY3JaT0NNc5HYMObjRTzhpc\n",
    "\n",
    "#############################################################################\n",
    "\n",
    "fullpath = \"C:/Users/jiri.zelenka/Desktop/Python/Akcie_diplomka/factors/Momentum_US_daily.csv\"\n",
    "\n",
    "data = find_header_and_load(fullpath)\n",
    "data.head()"
   ]
  },
  {
   "cell_type": "code",
   "execution_count": 229,
   "metadata": {},
   "outputs": [
    {
     "data": {
      "text/html": [
       "<div>\n",
       "<style scoped>\n",
       "    .dataframe tbody tr th:only-of-type {\n",
       "        vertical-align: middle;\n",
       "    }\n",
       "\n",
       "    .dataframe tbody tr th {\n",
       "        vertical-align: top;\n",
       "    }\n",
       "\n",
       "    .dataframe thead th {\n",
       "        text-align: right;\n",
       "    }\n",
       "</style>\n",
       "<table border=\"1\" class=\"dataframe\">\n",
       "  <thead>\n",
       "    <tr style=\"text-align: right;\">\n",
       "      <th></th>\n",
       "      <th>Date</th>\n",
       "      <th>Mom</th>\n",
       "    </tr>\n",
       "  </thead>\n",
       "  <tbody>\n",
       "    <tr>\n",
       "      <th>24516</th>\n",
       "      <td>2019-11-22</td>\n",
       "      <td>-1.02</td>\n",
       "    </tr>\n",
       "    <tr>\n",
       "      <th>24517</th>\n",
       "      <td>2019-11-25</td>\n",
       "      <td>-0.36</td>\n",
       "    </tr>\n",
       "    <tr>\n",
       "      <th>24518</th>\n",
       "      <td>2019-11-26</td>\n",
       "      <td>0.93</td>\n",
       "    </tr>\n",
       "    <tr>\n",
       "      <th>24519</th>\n",
       "      <td>2019-11-27</td>\n",
       "      <td>-0.24</td>\n",
       "    </tr>\n",
       "    <tr>\n",
       "      <th>24520</th>\n",
       "      <td>2019-11-29</td>\n",
       "      <td>-0.01</td>\n",
       "    </tr>\n",
       "  </tbody>\n",
       "</table>\n",
       "</div>"
      ],
      "text/plain": [
       "            Date  Mom   \n",
       "24516 2019-11-22   -1.02\n",
       "24517 2019-11-25   -0.36\n",
       "24518 2019-11-26    0.93\n",
       "24519 2019-11-27   -0.24\n",
       "24520 2019-11-29   -0.01"
      ]
     },
     "execution_count": 229,
     "metadata": {},
     "output_type": "execute_result"
    }
   ],
   "source": [
    "\n",
    "def format_date_daily(df):\n",
    "\n",
    "    df = df.rename(columns={'Unnamed: 0': 'Date'})\n",
    "    df['Date'] = df['Date'].apply(str)\n",
    "    \n",
    "    try:                                                                 \n",
    "\n",
    "        df['Date'] = df['Date'].apply(lambda x: datetime.strptime(x,'%Y%m%d'))      \n",
    "   \n",
    "    except:\n",
    "        df = df[0:len(df)-1]                                                     #### Kvůli tomu, že některé soubory měly na konci řádek s copyrightem tkerý je třeba umazat\n",
    "        df['Date'] = df['Date'].apply(lambda x: datetime.strptime(x,'%Y%m%d'))  \n",
    "        \n",
    "    return df\n",
    "\n",
    "        # Byl to boj, různé verze strtime strftime, dále taky problem zase s konverzí stringu, snaha zbavit se konce toho /no atd., nakonec po apply to vyšlo krásně, a samy naskákaly pomlčky do datumů. :)\n",
    "#############################################################################\n",
    "\n",
    "data = data\n",
    "data = format_date_daily(data)\n",
    "data.tail()"
   ]
  },
  {
   "cell_type": "code",
   "execution_count": 231,
   "metadata": {},
   "outputs": [
    {
     "ename": "ValueError",
     "evalue": "unconverted data remains: 03",
     "output_type": "error",
     "traceback": [
      "\u001b[1;31m---------------------------------------------------------------------------\u001b[0m",
      "\u001b[1;31mValueError\u001b[0m                                Traceback (most recent call last)",
      "\u001b[1;32m<ipython-input-231-1388ad86d399>\u001b[0m in \u001b[0;36mformat_date_monthly\u001b[1;34m(df)\u001b[0m\n\u001b[0;32m      7\u001b[0m \u001b[1;33m\u001b[0m\u001b[0m\n\u001b[1;32m----> 8\u001b[1;33m         \u001b[0mdf\u001b[0m\u001b[1;33m[\u001b[0m\u001b[1;34m'Date'\u001b[0m\u001b[1;33m]\u001b[0m \u001b[1;33m=\u001b[0m \u001b[0mdf\u001b[0m\u001b[1;33m[\u001b[0m\u001b[1;34m'Date'\u001b[0m\u001b[1;33m]\u001b[0m\u001b[1;33m.\u001b[0m\u001b[0mapply\u001b[0m\u001b[1;33m(\u001b[0m\u001b[1;32mlambda\u001b[0m \u001b[0mx\u001b[0m\u001b[1;33m:\u001b[0m \u001b[0mdatetime\u001b[0m\u001b[1;33m.\u001b[0m\u001b[0mstrptime\u001b[0m\u001b[1;33m(\u001b[0m\u001b[0mx\u001b[0m\u001b[1;33m,\u001b[0m\u001b[1;34m'%Y%m'\u001b[0m\u001b[1;33m)\u001b[0m\u001b[1;33m)\u001b[0m\u001b[1;33m\u001b[0m\u001b[0m\n\u001b[0m\u001b[0;32m      9\u001b[0m \u001b[1;33m\u001b[0m\u001b[0m\n",
      "\u001b[1;32m~\\AppData\\Local\\Continuum\\anaconda3\\lib\\site-packages\\pandas\\core\\series.py\u001b[0m in \u001b[0;36mapply\u001b[1;34m(self, func, convert_dtype, args, **kwds)\u001b[0m\n\u001b[0;32m   3191\u001b[0m                 \u001b[0mvalues\u001b[0m \u001b[1;33m=\u001b[0m \u001b[0mself\u001b[0m\u001b[1;33m.\u001b[0m\u001b[0mastype\u001b[0m\u001b[1;33m(\u001b[0m\u001b[0mobject\u001b[0m\u001b[1;33m)\u001b[0m\u001b[1;33m.\u001b[0m\u001b[0mvalues\u001b[0m\u001b[1;33m\u001b[0m\u001b[0m\n\u001b[1;32m-> 3192\u001b[1;33m                 \u001b[0mmapped\u001b[0m \u001b[1;33m=\u001b[0m \u001b[0mlib\u001b[0m\u001b[1;33m.\u001b[0m\u001b[0mmap_infer\u001b[0m\u001b[1;33m(\u001b[0m\u001b[0mvalues\u001b[0m\u001b[1;33m,\u001b[0m \u001b[0mf\u001b[0m\u001b[1;33m,\u001b[0m \u001b[0mconvert\u001b[0m\u001b[1;33m=\u001b[0m\u001b[0mconvert_dtype\u001b[0m\u001b[1;33m)\u001b[0m\u001b[1;33m\u001b[0m\u001b[0m\n\u001b[0m\u001b[0;32m   3193\u001b[0m \u001b[1;33m\u001b[0m\u001b[0m\n",
      "\u001b[1;32mpandas/_libs/src\\inference.pyx\u001b[0m in \u001b[0;36mpandas._libs.lib.map_infer\u001b[1;34m()\u001b[0m\n",
      "\u001b[1;32m<ipython-input-231-1388ad86d399>\u001b[0m in \u001b[0;36m<lambda>\u001b[1;34m(x)\u001b[0m\n\u001b[0;32m      7\u001b[0m \u001b[1;33m\u001b[0m\u001b[0m\n\u001b[1;32m----> 8\u001b[1;33m         \u001b[0mdf\u001b[0m\u001b[1;33m[\u001b[0m\u001b[1;34m'Date'\u001b[0m\u001b[1;33m]\u001b[0m \u001b[1;33m=\u001b[0m \u001b[0mdf\u001b[0m\u001b[1;33m[\u001b[0m\u001b[1;34m'Date'\u001b[0m\u001b[1;33m]\u001b[0m\u001b[1;33m.\u001b[0m\u001b[0mapply\u001b[0m\u001b[1;33m(\u001b[0m\u001b[1;32mlambda\u001b[0m \u001b[0mx\u001b[0m\u001b[1;33m:\u001b[0m \u001b[0mdatetime\u001b[0m\u001b[1;33m.\u001b[0m\u001b[0mstrptime\u001b[0m\u001b[1;33m(\u001b[0m\u001b[0mx\u001b[0m\u001b[1;33m,\u001b[0m\u001b[1;34m'%Y%m'\u001b[0m\u001b[1;33m)\u001b[0m\u001b[1;33m)\u001b[0m\u001b[1;33m\u001b[0m\u001b[0m\n\u001b[0m\u001b[0;32m      9\u001b[0m \u001b[1;33m\u001b[0m\u001b[0m\n",
      "\u001b[1;32m~\\AppData\\Local\\Continuum\\anaconda3\\lib\\_strptime.py\u001b[0m in \u001b[0;36m_strptime_datetime\u001b[1;34m(cls, data_string, format)\u001b[0m\n\u001b[0;32m    564\u001b[0m     format string.\"\"\"\n\u001b[1;32m--> 565\u001b[1;33m     \u001b[0mtt\u001b[0m\u001b[1;33m,\u001b[0m \u001b[0mfraction\u001b[0m \u001b[1;33m=\u001b[0m \u001b[0m_strptime\u001b[0m\u001b[1;33m(\u001b[0m\u001b[0mdata_string\u001b[0m\u001b[1;33m,\u001b[0m \u001b[0mformat\u001b[0m\u001b[1;33m)\u001b[0m\u001b[1;33m\u001b[0m\u001b[0m\n\u001b[0m\u001b[0;32m    566\u001b[0m     \u001b[0mtzname\u001b[0m\u001b[1;33m,\u001b[0m \u001b[0mgmtoff\u001b[0m \u001b[1;33m=\u001b[0m \u001b[0mtt\u001b[0m\u001b[1;33m[\u001b[0m\u001b[1;33m-\u001b[0m\u001b[1;36m2\u001b[0m\u001b[1;33m:\u001b[0m\u001b[1;33m]\u001b[0m\u001b[1;33m\u001b[0m\u001b[0m\n",
      "\u001b[1;32m~\\AppData\\Local\\Continuum\\anaconda3\\lib\\_strptime.py\u001b[0m in \u001b[0;36m_strptime\u001b[1;34m(data_string, format)\u001b[0m\n\u001b[0;32m    364\u001b[0m         raise ValueError(\"unconverted data remains: %s\" %\n\u001b[1;32m--> 365\u001b[1;33m                           data_string[found.end():])\n\u001b[0m\u001b[0;32m    366\u001b[0m \u001b[1;33m\u001b[0m\u001b[0m\n",
      "\u001b[1;31mValueError\u001b[0m: unconverted data remains: 03",
      "\nDuring handling of the above exception, another exception occurred:\n",
      "\u001b[1;31mValueError\u001b[0m                                Traceback (most recent call last)",
      "\u001b[1;32m<ipython-input-231-1388ad86d399>\u001b[0m in \u001b[0;36m<module>\u001b[1;34m()\u001b[0m\n\u001b[0;32m     16\u001b[0m \u001b[1;31m#############################################################################\u001b[0m\u001b[1;33m\u001b[0m\u001b[1;33m\u001b[0m\u001b[0m\n\u001b[0;32m     17\u001b[0m \u001b[0mdata\u001b[0m \u001b[1;33m=\u001b[0m \u001b[0mdata\u001b[0m\u001b[1;33m\u001b[0m\u001b[0m\n\u001b[1;32m---> 18\u001b[1;33m \u001b[0mdata\u001b[0m \u001b[1;33m=\u001b[0m \u001b[0mformat_date_monthly\u001b[0m\u001b[1;33m(\u001b[0m\u001b[0mdata\u001b[0m\u001b[1;33m)\u001b[0m\u001b[1;33m\u001b[0m\u001b[0m\n\u001b[0m\u001b[0;32m     19\u001b[0m \u001b[0mdata\u001b[0m\u001b[1;33m.\u001b[0m\u001b[0mtail\u001b[0m\u001b[1;33m(\u001b[0m\u001b[1;33m)\u001b[0m\u001b[1;33m\u001b[0m\u001b[0m\n",
      "\u001b[1;32m<ipython-input-231-1388ad86d399>\u001b[0m in \u001b[0;36mformat_date_monthly\u001b[1;34m(df)\u001b[0m\n\u001b[0;32m     10\u001b[0m     \u001b[1;32mexcept\u001b[0m\u001b[1;33m:\u001b[0m\u001b[1;33m\u001b[0m\u001b[0m\n\u001b[0;32m     11\u001b[0m         \u001b[0mdf\u001b[0m \u001b[1;33m=\u001b[0m \u001b[0mdf\u001b[0m\u001b[1;33m[\u001b[0m\u001b[1;36m0\u001b[0m\u001b[1;33m:\u001b[0m\u001b[0mlen\u001b[0m\u001b[1;33m(\u001b[0m\u001b[0mdf\u001b[0m\u001b[1;33m)\u001b[0m\u001b[1;33m-\u001b[0m\u001b[1;36m1\u001b[0m\u001b[1;33m]\u001b[0m                                                     \u001b[1;31m#### Kvůli tomu, že některé soubory měly na konci řádek s copyrightem tkerý je třeba umazat\u001b[0m\u001b[1;33m\u001b[0m\u001b[0m\n\u001b[1;32m---> 12\u001b[1;33m         \u001b[0mdf\u001b[0m\u001b[1;33m[\u001b[0m\u001b[1;34m'Date'\u001b[0m\u001b[1;33m]\u001b[0m \u001b[1;33m=\u001b[0m \u001b[0mdf\u001b[0m\u001b[1;33m[\u001b[0m\u001b[1;34m'Date'\u001b[0m\u001b[1;33m]\u001b[0m\u001b[1;33m.\u001b[0m\u001b[0mapply\u001b[0m\u001b[1;33m(\u001b[0m\u001b[1;32mlambda\u001b[0m \u001b[0mx\u001b[0m\u001b[1;33m:\u001b[0m \u001b[0mdatetime\u001b[0m\u001b[1;33m.\u001b[0m\u001b[0mstrptime\u001b[0m\u001b[1;33m(\u001b[0m\u001b[0mx\u001b[0m\u001b[1;33m,\u001b[0m\u001b[1;34m'%Y%m'\u001b[0m\u001b[1;33m)\u001b[0m\u001b[1;33m)\u001b[0m\u001b[1;33m\u001b[0m\u001b[0m\n\u001b[0m\u001b[0;32m     13\u001b[0m \u001b[1;33m\u001b[0m\u001b[0m\n\u001b[0;32m     14\u001b[0m     \u001b[1;32mreturn\u001b[0m \u001b[0mdf\u001b[0m\u001b[1;33m\u001b[0m\u001b[0m\n",
      "\u001b[1;32m~\\AppData\\Local\\Continuum\\anaconda3\\lib\\site-packages\\pandas\\core\\series.py\u001b[0m in \u001b[0;36mapply\u001b[1;34m(self, func, convert_dtype, args, **kwds)\u001b[0m\n\u001b[0;32m   3190\u001b[0m             \u001b[1;32melse\u001b[0m\u001b[1;33m:\u001b[0m\u001b[1;33m\u001b[0m\u001b[0m\n\u001b[0;32m   3191\u001b[0m                 \u001b[0mvalues\u001b[0m \u001b[1;33m=\u001b[0m \u001b[0mself\u001b[0m\u001b[1;33m.\u001b[0m\u001b[0mastype\u001b[0m\u001b[1;33m(\u001b[0m\u001b[0mobject\u001b[0m\u001b[1;33m)\u001b[0m\u001b[1;33m.\u001b[0m\u001b[0mvalues\u001b[0m\u001b[1;33m\u001b[0m\u001b[0m\n\u001b[1;32m-> 3192\u001b[1;33m                 \u001b[0mmapped\u001b[0m \u001b[1;33m=\u001b[0m \u001b[0mlib\u001b[0m\u001b[1;33m.\u001b[0m\u001b[0mmap_infer\u001b[0m\u001b[1;33m(\u001b[0m\u001b[0mvalues\u001b[0m\u001b[1;33m,\u001b[0m \u001b[0mf\u001b[0m\u001b[1;33m,\u001b[0m \u001b[0mconvert\u001b[0m\u001b[1;33m=\u001b[0m\u001b[0mconvert_dtype\u001b[0m\u001b[1;33m)\u001b[0m\u001b[1;33m\u001b[0m\u001b[0m\n\u001b[0m\u001b[0;32m   3193\u001b[0m \u001b[1;33m\u001b[0m\u001b[0m\n\u001b[0;32m   3194\u001b[0m         \u001b[1;32mif\u001b[0m \u001b[0mlen\u001b[0m\u001b[1;33m(\u001b[0m\u001b[0mmapped\u001b[0m\u001b[1;33m)\u001b[0m \u001b[1;32mand\u001b[0m \u001b[0misinstance\u001b[0m\u001b[1;33m(\u001b[0m\u001b[0mmapped\u001b[0m\u001b[1;33m[\u001b[0m\u001b[1;36m0\u001b[0m\u001b[1;33m]\u001b[0m\u001b[1;33m,\u001b[0m \u001b[0mSeries\u001b[0m\u001b[1;33m)\u001b[0m\u001b[1;33m:\u001b[0m\u001b[1;33m\u001b[0m\u001b[0m\n",
      "\u001b[1;32mpandas/_libs/src\\inference.pyx\u001b[0m in \u001b[0;36mpandas._libs.lib.map_infer\u001b[1;34m()\u001b[0m\n",
      "\u001b[1;32m<ipython-input-231-1388ad86d399>\u001b[0m in \u001b[0;36m<lambda>\u001b[1;34m(x)\u001b[0m\n\u001b[0;32m     10\u001b[0m     \u001b[1;32mexcept\u001b[0m\u001b[1;33m:\u001b[0m\u001b[1;33m\u001b[0m\u001b[0m\n\u001b[0;32m     11\u001b[0m         \u001b[0mdf\u001b[0m \u001b[1;33m=\u001b[0m \u001b[0mdf\u001b[0m\u001b[1;33m[\u001b[0m\u001b[1;36m0\u001b[0m\u001b[1;33m:\u001b[0m\u001b[0mlen\u001b[0m\u001b[1;33m(\u001b[0m\u001b[0mdf\u001b[0m\u001b[1;33m)\u001b[0m\u001b[1;33m-\u001b[0m\u001b[1;36m1\u001b[0m\u001b[1;33m]\u001b[0m                                                     \u001b[1;31m#### Kvůli tomu, že některé soubory měly na konci řádek s copyrightem tkerý je třeba umazat\u001b[0m\u001b[1;33m\u001b[0m\u001b[0m\n\u001b[1;32m---> 12\u001b[1;33m         \u001b[0mdf\u001b[0m\u001b[1;33m[\u001b[0m\u001b[1;34m'Date'\u001b[0m\u001b[1;33m]\u001b[0m \u001b[1;33m=\u001b[0m \u001b[0mdf\u001b[0m\u001b[1;33m[\u001b[0m\u001b[1;34m'Date'\u001b[0m\u001b[1;33m]\u001b[0m\u001b[1;33m.\u001b[0m\u001b[0mapply\u001b[0m\u001b[1;33m(\u001b[0m\u001b[1;32mlambda\u001b[0m \u001b[0mx\u001b[0m\u001b[1;33m:\u001b[0m \u001b[0mdatetime\u001b[0m\u001b[1;33m.\u001b[0m\u001b[0mstrptime\u001b[0m\u001b[1;33m(\u001b[0m\u001b[0mx\u001b[0m\u001b[1;33m,\u001b[0m\u001b[1;34m'%Y%m'\u001b[0m\u001b[1;33m)\u001b[0m\u001b[1;33m)\u001b[0m\u001b[1;33m\u001b[0m\u001b[0m\n\u001b[0m\u001b[0;32m     13\u001b[0m \u001b[1;33m\u001b[0m\u001b[0m\n\u001b[0;32m     14\u001b[0m     \u001b[1;32mreturn\u001b[0m \u001b[0mdf\u001b[0m\u001b[1;33m\u001b[0m\u001b[0m\n",
      "\u001b[1;32m~\\AppData\\Local\\Continuum\\anaconda3\\lib\\_strptime.py\u001b[0m in \u001b[0;36m_strptime_datetime\u001b[1;34m(cls, data_string, format)\u001b[0m\n\u001b[0;32m    563\u001b[0m     \"\"\"Return a class cls instance based on the input string and the\n\u001b[0;32m    564\u001b[0m     format string.\"\"\"\n\u001b[1;32m--> 565\u001b[1;33m     \u001b[0mtt\u001b[0m\u001b[1;33m,\u001b[0m \u001b[0mfraction\u001b[0m \u001b[1;33m=\u001b[0m \u001b[0m_strptime\u001b[0m\u001b[1;33m(\u001b[0m\u001b[0mdata_string\u001b[0m\u001b[1;33m,\u001b[0m \u001b[0mformat\u001b[0m\u001b[1;33m)\u001b[0m\u001b[1;33m\u001b[0m\u001b[0m\n\u001b[0m\u001b[0;32m    566\u001b[0m     \u001b[0mtzname\u001b[0m\u001b[1;33m,\u001b[0m \u001b[0mgmtoff\u001b[0m \u001b[1;33m=\u001b[0m \u001b[0mtt\u001b[0m\u001b[1;33m[\u001b[0m\u001b[1;33m-\u001b[0m\u001b[1;36m2\u001b[0m\u001b[1;33m:\u001b[0m\u001b[1;33m]\u001b[0m\u001b[1;33m\u001b[0m\u001b[0m\n\u001b[0;32m    567\u001b[0m     \u001b[0margs\u001b[0m \u001b[1;33m=\u001b[0m \u001b[0mtt\u001b[0m\u001b[1;33m[\u001b[0m\u001b[1;33m:\u001b[0m\u001b[1;36m6\u001b[0m\u001b[1;33m]\u001b[0m \u001b[1;33m+\u001b[0m \u001b[1;33m(\u001b[0m\u001b[0mfraction\u001b[0m\u001b[1;33m,\u001b[0m\u001b[1;33m)\u001b[0m\u001b[1;33m\u001b[0m\u001b[0m\n",
      "\u001b[1;32m~\\AppData\\Local\\Continuum\\anaconda3\\lib\\_strptime.py\u001b[0m in \u001b[0;36m_strptime\u001b[1;34m(data_string, format)\u001b[0m\n\u001b[0;32m    363\u001b[0m     \u001b[1;32mif\u001b[0m \u001b[0mlen\u001b[0m\u001b[1;33m(\u001b[0m\u001b[0mdata_string\u001b[0m\u001b[1;33m)\u001b[0m \u001b[1;33m!=\u001b[0m \u001b[0mfound\u001b[0m\u001b[1;33m.\u001b[0m\u001b[0mend\u001b[0m\u001b[1;33m(\u001b[0m\u001b[1;33m)\u001b[0m\u001b[1;33m:\u001b[0m\u001b[1;33m\u001b[0m\u001b[0m\n\u001b[0;32m    364\u001b[0m         raise ValueError(\"unconverted data remains: %s\" %\n\u001b[1;32m--> 365\u001b[1;33m                           data_string[found.end():])\n\u001b[0m\u001b[0;32m    366\u001b[0m \u001b[1;33m\u001b[0m\u001b[0m\n\u001b[0;32m    367\u001b[0m     \u001b[0miso_year\u001b[0m \u001b[1;33m=\u001b[0m \u001b[0myear\u001b[0m \u001b[1;33m=\u001b[0m \u001b[1;32mNone\u001b[0m\u001b[1;33m\u001b[0m\u001b[0m\n",
      "\u001b[1;31mValueError\u001b[0m: unconverted data remains: 03"
     ]
    }
   ],
   "source": [
    "def format_date_monthly(df):\n",
    "\n",
    "    df = df.rename(columns={'Unnamed: 0': 'Date'})\n",
    "    df['Date'] = df['Date'].apply(str)\n",
    "    \n",
    "    try:                                                                 \n",
    "\n",
    "        df['Date'] = df['Date'].apply(lambda x: datetime.strptime(x,'%Y%m'))      ###### Buď je blbě tenhle formát, nebo to blbne kvůli těm dalším posunutý mřádkům ... \n",
    "   \n",
    "    except:\n",
    "        df = df[0:len(df)-1]                                                     #### Kvůli tomu, že některé soubory měly na konci řádek s copyrightem tkerý je třeba umazat\n",
    "        df['Date'] = df['Date'].apply(lambda x: datetime.strptime(x,'%Y%m'))  \n",
    "        \n",
    "    return df\n",
    "\n",
    "#############################################################################\n",
    "data = data\n",
    "data = format_date_monthly(data)\n",
    "data.tail()"
   ]
  },
  {
   "cell_type": "code",
   "execution_count": null,
   "metadata": {},
   "outputs": [],
   "source": []
  },
  {
   "cell_type": "markdown",
   "metadata": {},
   "source": [
    "### Loading specific EXCEL XXX CSV and preparing"
   ]
  },
  {
   "cell_type": "code",
   "execution_count": 224,
   "metadata": {},
   "outputs": [],
   "source": [
    "\n",
    "def factors_load(path, country, freq):\n",
    "    \n",
    "    if country == \"EU\":\n",
    "        i = \"EU\"\n",
    "    elif country == \"US\":\n",
    "        i = \"US\"\n",
    "    else:\n",
    "        pass\n",
    "\n",
    "    if freq == \"daily\":\n",
    "        j = \"daily\"\n",
    "    elif freq == \"monthly\":\n",
    "        j = \"monthly\"\n",
    "    else:\n",
    "        pass\n",
    "\n",
    "\n",
    "    fullpath1 = path + \"Five_factors_\" + i + \"_\" + j +\".csv\"\n",
    "    fullpath2 = path +  \"Momentum_\" + i + \"_\" + j +\".csv\"\n",
    "    fullpath3 = path + \"Three_factors_\" + i + \"_\" + j +\".csv\"\n",
    "    \n",
    "    if freq == \"daily\":\n",
    "        df1 = format_date_daily(find_header_and_load(fullpath1))\n",
    "        df2 = format_date_daily(find_header_and_load(fullpath2))\n",
    "        df3 = format_date_daily(find_header_and_load(fullpath3))\n",
    "\n",
    "        \n",
    "    if freq == \"monthly\":\n",
    "        df1 = format_date_monthly(find_header_and_load(fullpath1))\n",
    "        df2 = format_date_monthly(find_header_and_load(fullpath2))\n",
    "        df3 = format_date_monthly(find_header_and_load(fullpath3)) \n",
    "    \n",
    "    return df1, df2, df3\n",
    "\n",
    "#############################################################################\n",
    "\n",
    "path = \"C:/Users/jiri.zelenka/Desktop/Python/Akcie_diplomka/factors/\"\n",
    "factors = factors_load(path, \"EU\", \"daily\")\n",
    "\n",
    "three = factors[2]\n",
    "four = factors[1]\n",
    "five = factors[0]\n",
    "\n",
    "\n",
    "################\n",
    "# !!!!!!!!!!!!!!!!! Porblém je u UUS i EU monthly - tam to chápu, nedořešil jsem formáty pomlček\n",
    "\n",
    "#"
   ]
  },
  {
   "cell_type": "code",
   "execution_count": 225,
   "metadata": {},
   "outputs": [
    {
     "data": {
      "text/html": [
       "<div>\n",
       "<style scoped>\n",
       "    .dataframe tbody tr th:only-of-type {\n",
       "        vertical-align: middle;\n",
       "    }\n",
       "\n",
       "    .dataframe tbody tr th {\n",
       "        vertical-align: top;\n",
       "    }\n",
       "\n",
       "    .dataframe thead th {\n",
       "        text-align: right;\n",
       "    }\n",
       "</style>\n",
       "<table border=\"1\" class=\"dataframe\">\n",
       "  <thead>\n",
       "    <tr style=\"text-align: right;\">\n",
       "      <th></th>\n",
       "      <th>Date</th>\n",
       "      <th>Mkt-RF</th>\n",
       "      <th>SMB</th>\n",
       "      <th>HML</th>\n",
       "      <th>RF</th>\n",
       "    </tr>\n",
       "  </thead>\n",
       "  <tbody>\n",
       "    <tr>\n",
       "      <th>0</th>\n",
       "      <td>1990-07-02</td>\n",
       "      <td>0.99</td>\n",
       "      <td>0.05</td>\n",
       "      <td>-0.53</td>\n",
       "      <td>0.03</td>\n",
       "    </tr>\n",
       "    <tr>\n",
       "      <th>1</th>\n",
       "      <td>1990-07-03</td>\n",
       "      <td>0.33</td>\n",
       "      <td>-0.12</td>\n",
       "      <td>-0.03</td>\n",
       "      <td>0.03</td>\n",
       "    </tr>\n",
       "    <tr>\n",
       "      <th>2</th>\n",
       "      <td>1990-07-04</td>\n",
       "      <td>0.24</td>\n",
       "      <td>-0.01</td>\n",
       "      <td>-0.14</td>\n",
       "      <td>0.03</td>\n",
       "    </tr>\n",
       "    <tr>\n",
       "      <th>3</th>\n",
       "      <td>1990-07-05</td>\n",
       "      <td>-0.64</td>\n",
       "      <td>0.19</td>\n",
       "      <td>0.06</td>\n",
       "      <td>0.03</td>\n",
       "    </tr>\n",
       "    <tr>\n",
       "      <th>4</th>\n",
       "      <td>1990-07-06</td>\n",
       "      <td>0.08</td>\n",
       "      <td>-0.19</td>\n",
       "      <td>0.14</td>\n",
       "      <td>0.03</td>\n",
       "    </tr>\n",
       "  </tbody>\n",
       "</table>\n",
       "</div>"
      ],
      "text/plain": [
       "        Date  Mkt-RF   SMB   HML    RF\n",
       "0 1990-07-02    0.99  0.05 -0.53  0.03\n",
       "1 1990-07-03    0.33 -0.12 -0.03  0.03\n",
       "2 1990-07-04    0.24 -0.01 -0.14  0.03\n",
       "3 1990-07-05   -0.64  0.19  0.06  0.03\n",
       "4 1990-07-06    0.08 -0.19  0.14  0.03"
      ]
     },
     "metadata": {},
     "output_type": "display_data"
    },
    {
     "data": {
      "text/html": [
       "<div>\n",
       "<style scoped>\n",
       "    .dataframe tbody tr th:only-of-type {\n",
       "        vertical-align: middle;\n",
       "    }\n",
       "\n",
       "    .dataframe tbody tr th {\n",
       "        vertical-align: top;\n",
       "    }\n",
       "\n",
       "    .dataframe thead th {\n",
       "        text-align: right;\n",
       "    }\n",
       "</style>\n",
       "<table border=\"1\" class=\"dataframe\">\n",
       "  <thead>\n",
       "    <tr style=\"text-align: right;\">\n",
       "      <th></th>\n",
       "      <th>Date</th>\n",
       "      <th>WML</th>\n",
       "    </tr>\n",
       "  </thead>\n",
       "  <tbody>\n",
       "    <tr>\n",
       "      <th>0</th>\n",
       "      <td>1990-11-01</td>\n",
       "      <td>0.24</td>\n",
       "    </tr>\n",
       "    <tr>\n",
       "      <th>1</th>\n",
       "      <td>1990-11-02</td>\n",
       "      <td>0.32</td>\n",
       "    </tr>\n",
       "    <tr>\n",
       "      <th>2</th>\n",
       "      <td>1990-11-05</td>\n",
       "      <td>0.47</td>\n",
       "    </tr>\n",
       "    <tr>\n",
       "      <th>3</th>\n",
       "      <td>1990-11-06</td>\n",
       "      <td>0.56</td>\n",
       "    </tr>\n",
       "    <tr>\n",
       "      <th>4</th>\n",
       "      <td>1990-11-07</td>\n",
       "      <td>0.34</td>\n",
       "    </tr>\n",
       "  </tbody>\n",
       "</table>\n",
       "</div>"
      ],
      "text/plain": [
       "        Date   WML\n",
       "0 1990-11-01  0.24\n",
       "1 1990-11-02  0.32\n",
       "2 1990-11-05  0.47\n",
       "3 1990-11-06  0.56\n",
       "4 1990-11-07  0.34"
      ]
     },
     "metadata": {},
     "output_type": "display_data"
    },
    {
     "data": {
      "text/html": [
       "<div>\n",
       "<style scoped>\n",
       "    .dataframe tbody tr th:only-of-type {\n",
       "        vertical-align: middle;\n",
       "    }\n",
       "\n",
       "    .dataframe tbody tr th {\n",
       "        vertical-align: top;\n",
       "    }\n",
       "\n",
       "    .dataframe thead th {\n",
       "        text-align: right;\n",
       "    }\n",
       "</style>\n",
       "<table border=\"1\" class=\"dataframe\">\n",
       "  <thead>\n",
       "    <tr style=\"text-align: right;\">\n",
       "      <th></th>\n",
       "      <th>Date</th>\n",
       "      <th>Mkt-RF</th>\n",
       "      <th>SMB</th>\n",
       "      <th>HML</th>\n",
       "      <th>RMW</th>\n",
       "      <th>CMA</th>\n",
       "      <th>RF</th>\n",
       "    </tr>\n",
       "  </thead>\n",
       "  <tbody>\n",
       "    <tr>\n",
       "      <th>0</th>\n",
       "      <td>1990-07-02</td>\n",
       "      <td>0.99</td>\n",
       "      <td>0.01</td>\n",
       "      <td>-0.53</td>\n",
       "      <td>0.41</td>\n",
       "      <td>-0.25</td>\n",
       "      <td>0.03</td>\n",
       "    </tr>\n",
       "    <tr>\n",
       "      <th>1</th>\n",
       "      <td>1990-07-03</td>\n",
       "      <td>0.33</td>\n",
       "      <td>-0.09</td>\n",
       "      <td>-0.03</td>\n",
       "      <td>0.05</td>\n",
       "      <td>0.27</td>\n",
       "      <td>0.03</td>\n",
       "    </tr>\n",
       "    <tr>\n",
       "      <th>2</th>\n",
       "      <td>1990-07-04</td>\n",
       "      <td>0.24</td>\n",
       "      <td>0.01</td>\n",
       "      <td>-0.14</td>\n",
       "      <td>-0.10</td>\n",
       "      <td>0.23</td>\n",
       "      <td>0.03</td>\n",
       "    </tr>\n",
       "    <tr>\n",
       "      <th>3</th>\n",
       "      <td>1990-07-05</td>\n",
       "      <td>-0.64</td>\n",
       "      <td>0.20</td>\n",
       "      <td>0.06</td>\n",
       "      <td>-0.32</td>\n",
       "      <td>0.08</td>\n",
       "      <td>0.03</td>\n",
       "    </tr>\n",
       "    <tr>\n",
       "      <th>4</th>\n",
       "      <td>1990-07-06</td>\n",
       "      <td>0.08</td>\n",
       "      <td>-0.24</td>\n",
       "      <td>0.14</td>\n",
       "      <td>0.02</td>\n",
       "      <td>0.13</td>\n",
       "      <td>0.03</td>\n",
       "    </tr>\n",
       "  </tbody>\n",
       "</table>\n",
       "</div>"
      ],
      "text/plain": [
       "        Date  Mkt-RF   SMB   HML   RMW   CMA    RF\n",
       "0 1990-07-02    0.99  0.01 -0.53  0.41 -0.25  0.03\n",
       "1 1990-07-03    0.33 -0.09 -0.03  0.05  0.27  0.03\n",
       "2 1990-07-04    0.24  0.01 -0.14 -0.10  0.23  0.03\n",
       "3 1990-07-05   -0.64  0.20  0.06 -0.32  0.08  0.03\n",
       "4 1990-07-06    0.08 -0.24  0.14  0.02  0.13  0.03"
      ]
     },
     "metadata": {},
     "output_type": "display_data"
    },
    {
     "data": {
      "text/html": [
       "<div>\n",
       "<style scoped>\n",
       "    .dataframe tbody tr th:only-of-type {\n",
       "        vertical-align: middle;\n",
       "    }\n",
       "\n",
       "    .dataframe tbody tr th {\n",
       "        vertical-align: top;\n",
       "    }\n",
       "\n",
       "    .dataframe thead th {\n",
       "        text-align: right;\n",
       "    }\n",
       "</style>\n",
       "<table border=\"1\" class=\"dataframe\">\n",
       "  <thead>\n",
       "    <tr style=\"text-align: right;\">\n",
       "      <th></th>\n",
       "      <th>Date</th>\n",
       "      <th>Mkt-RF</th>\n",
       "      <th>SMB</th>\n",
       "      <th>HML</th>\n",
       "      <th>RF</th>\n",
       "    </tr>\n",
       "  </thead>\n",
       "  <tbody>\n",
       "    <tr>\n",
       "      <th>7626</th>\n",
       "      <td>2019-09-24</td>\n",
       "      <td>0.12</td>\n",
       "      <td>0.09</td>\n",
       "      <td>-0.63</td>\n",
       "      <td>0.01</td>\n",
       "    </tr>\n",
       "    <tr>\n",
       "      <th>7627</th>\n",
       "      <td>2019-09-25</td>\n",
       "      <td>-1.27</td>\n",
       "      <td>-0.33</td>\n",
       "      <td>0.51</td>\n",
       "      <td>0.01</td>\n",
       "    </tr>\n",
       "    <tr>\n",
       "      <th>7628</th>\n",
       "      <td>2019-09-26</td>\n",
       "      <td>0.34</td>\n",
       "      <td>-0.48</td>\n",
       "      <td>-0.39</td>\n",
       "      <td>0.01</td>\n",
       "    </tr>\n",
       "    <tr>\n",
       "      <th>7629</th>\n",
       "      <td>2019-09-27</td>\n",
       "      <td>0.54</td>\n",
       "      <td>-0.19</td>\n",
       "      <td>0.28</td>\n",
       "      <td>0.01</td>\n",
       "    </tr>\n",
       "    <tr>\n",
       "      <th>7630</th>\n",
       "      <td>2019-09-30</td>\n",
       "      <td>-0.02</td>\n",
       "      <td>-0.01</td>\n",
       "      <td>-0.03</td>\n",
       "      <td>0.01</td>\n",
       "    </tr>\n",
       "  </tbody>\n",
       "</table>\n",
       "</div>"
      ],
      "text/plain": [
       "           Date  Mkt-RF   SMB   HML    RF\n",
       "7626 2019-09-24    0.12  0.09 -0.63  0.01\n",
       "7627 2019-09-25   -1.27 -0.33  0.51  0.01\n",
       "7628 2019-09-26    0.34 -0.48 -0.39  0.01\n",
       "7629 2019-09-27    0.54 -0.19  0.28  0.01\n",
       "7630 2019-09-30   -0.02 -0.01 -0.03  0.01"
      ]
     },
     "metadata": {},
     "output_type": "display_data"
    },
    {
     "data": {
      "text/html": [
       "<div>\n",
       "<style scoped>\n",
       "    .dataframe tbody tr th:only-of-type {\n",
       "        vertical-align: middle;\n",
       "    }\n",
       "\n",
       "    .dataframe tbody tr th {\n",
       "        vertical-align: top;\n",
       "    }\n",
       "\n",
       "    .dataframe thead th {\n",
       "        text-align: right;\n",
       "    }\n",
       "</style>\n",
       "<table border=\"1\" class=\"dataframe\">\n",
       "  <thead>\n",
       "    <tr style=\"text-align: right;\">\n",
       "      <th></th>\n",
       "      <th>Date</th>\n",
       "      <th>WML</th>\n",
       "    </tr>\n",
       "  </thead>\n",
       "  <tbody>\n",
       "    <tr>\n",
       "      <th>7538</th>\n",
       "      <td>2019-09-24</td>\n",
       "      <td>1.11</td>\n",
       "    </tr>\n",
       "    <tr>\n",
       "      <th>7539</th>\n",
       "      <td>2019-09-25</td>\n",
       "      <td>-0.17</td>\n",
       "    </tr>\n",
       "    <tr>\n",
       "      <th>7540</th>\n",
       "      <td>2019-09-26</td>\n",
       "      <td>0.89</td>\n",
       "    </tr>\n",
       "    <tr>\n",
       "      <th>7541</th>\n",
       "      <td>2019-09-27</td>\n",
       "      <td>-0.70</td>\n",
       "    </tr>\n",
       "    <tr>\n",
       "      <th>7542</th>\n",
       "      <td>2019-09-30</td>\n",
       "      <td>-0.03</td>\n",
       "    </tr>\n",
       "  </tbody>\n",
       "</table>\n",
       "</div>"
      ],
      "text/plain": [
       "           Date   WML\n",
       "7538 2019-09-24  1.11\n",
       "7539 2019-09-25 -0.17\n",
       "7540 2019-09-26  0.89\n",
       "7541 2019-09-27 -0.70\n",
       "7542 2019-09-30 -0.03"
      ]
     },
     "metadata": {},
     "output_type": "display_data"
    },
    {
     "data": {
      "text/html": [
       "<div>\n",
       "<style scoped>\n",
       "    .dataframe tbody tr th:only-of-type {\n",
       "        vertical-align: middle;\n",
       "    }\n",
       "\n",
       "    .dataframe tbody tr th {\n",
       "        vertical-align: top;\n",
       "    }\n",
       "\n",
       "    .dataframe thead th {\n",
       "        text-align: right;\n",
       "    }\n",
       "</style>\n",
       "<table border=\"1\" class=\"dataframe\">\n",
       "  <thead>\n",
       "    <tr style=\"text-align: right;\">\n",
       "      <th></th>\n",
       "      <th>Date</th>\n",
       "      <th>Mkt-RF</th>\n",
       "      <th>SMB</th>\n",
       "      <th>HML</th>\n",
       "      <th>RMW</th>\n",
       "      <th>CMA</th>\n",
       "      <th>RF</th>\n",
       "    </tr>\n",
       "  </thead>\n",
       "  <tbody>\n",
       "    <tr>\n",
       "      <th>7626</th>\n",
       "      <td>2019-09-24</td>\n",
       "      <td>0.12</td>\n",
       "      <td>0.06</td>\n",
       "      <td>-0.63</td>\n",
       "      <td>0.13</td>\n",
       "      <td>-0.23</td>\n",
       "      <td>0.01</td>\n",
       "    </tr>\n",
       "    <tr>\n",
       "      <th>7627</th>\n",
       "      <td>2019-09-25</td>\n",
       "      <td>-1.27</td>\n",
       "      <td>-0.32</td>\n",
       "      <td>0.51</td>\n",
       "      <td>-0.32</td>\n",
       "      <td>0.21</td>\n",
       "      <td>0.01</td>\n",
       "    </tr>\n",
       "    <tr>\n",
       "      <th>7628</th>\n",
       "      <td>2019-09-26</td>\n",
       "      <td>0.34</td>\n",
       "      <td>-0.52</td>\n",
       "      <td>-0.39</td>\n",
       "      <td>0.08</td>\n",
       "      <td>-0.27</td>\n",
       "      <td>0.01</td>\n",
       "    </tr>\n",
       "    <tr>\n",
       "      <th>7629</th>\n",
       "      <td>2019-09-27</td>\n",
       "      <td>0.54</td>\n",
       "      <td>-0.17</td>\n",
       "      <td>0.28</td>\n",
       "      <td>0.00</td>\n",
       "      <td>0.15</td>\n",
       "      <td>0.01</td>\n",
       "    </tr>\n",
       "    <tr>\n",
       "      <th>7630</th>\n",
       "      <td>2019-09-30</td>\n",
       "      <td>-0.02</td>\n",
       "      <td>-0.01</td>\n",
       "      <td>-0.03</td>\n",
       "      <td>-0.05</td>\n",
       "      <td>-0.19</td>\n",
       "      <td>0.01</td>\n",
       "    </tr>\n",
       "  </tbody>\n",
       "</table>\n",
       "</div>"
      ],
      "text/plain": [
       "           Date  Mkt-RF   SMB   HML   RMW   CMA    RF\n",
       "7626 2019-09-24    0.12  0.06 -0.63  0.13 -0.23  0.01\n",
       "7627 2019-09-25   -1.27 -0.32  0.51 -0.32  0.21  0.01\n",
       "7628 2019-09-26    0.34 -0.52 -0.39  0.08 -0.27  0.01\n",
       "7629 2019-09-27    0.54 -0.17  0.28  0.00  0.15  0.01\n",
       "7630 2019-09-30   -0.02 -0.01 -0.03 -0.05 -0.19  0.01"
      ]
     },
     "metadata": {},
     "output_type": "display_data"
    }
   ],
   "source": [
    "display(three.head())\n",
    "display(four.head())\n",
    "display(five.head())\n",
    "\n",
    "display(three.tail())\n",
    "display(four.tail())\n",
    "display(five.tail())\n"
   ]
  },
  {
   "cell_type": "code",
   "execution_count": null,
   "metadata": {},
   "outputs": [],
   "source": [
    "length = min(len(three), len(four), len(five))\n",
    "\n",
    "\n",
    "\"\"\"for i in (three, four, five):\n",
    "    \n",
    "    i = i.iloc[::-1]\n",
    "    i = i[0:length]\n",
    "    i = i.iloc[::-1]\n",
    "    \n",
    "   \"\"\"\n",
    "\n",
    "three = three.iloc[::-1]\n",
    "three = three[0:length]\n",
    "three = three.iloc[::-1]\n",
    "\n",
    "four = four.iloc[::-1]\n",
    "four = four[0:length]\n",
    "four = four.iloc[::-1]\n",
    "\n",
    "five = five.iloc[::-1]\n",
    "five = five[0:length]\n",
    "five = five.iloc[::-1]\n",
    "\n",
    "for i in (three, four, five):\n",
    "    i = i[0:length]\n",
    "    print(len(i))\n",
    "    \n",
    " ### Seříznutí na stejnou délku pro všechny tři verze faktorů !!! \n",
    "\n",
    "\n",
    "    \n",
    "four = pd.concat([three, four[\"WML\"]], axis=1)\n",
    "four = four[[\"Mkt-RF\", \"SMB\", \"HML\",\"WML\", \"RF\"]]\n",
    "#four´factor je  prozatím založeno na 3 faktoru\n",
    "\n"
   ]
  },
  {
   "cell_type": "markdown",
   "metadata": {},
   "source": [
    "## Save the data"
   ]
  },
  {
   "cell_type": "code",
   "execution_count": null,
   "metadata": {},
   "outputs": [],
   "source": [
    "#three.to_excel(r\"three.xlsx\")\n",
    "#four.to_excel(r\"four.xlsx\")\n",
    "#five.to_excel(r\"five.xlsx\")"
   ]
  },
  {
   "cell_type": "markdown",
   "metadata": {},
   "source": [
    "# 5. Regression"
   ]
  },
  {
   "cell_type": "code",
   "execution_count": null,
   "metadata": {},
   "outputs": [],
   "source": [
    "\n",
    "def prepare_OLS(stocks, data, num_factors, split):\n",
    "    \n",
    "    if num_factors == \"three\":\n",
    "        factors = [ \"Mkt-RF\", \"SMB\", \"HML\"]\n",
    "        num_factors = three\n",
    "    else:\n",
    "        if num_factors == \"four\":\n",
    "            factors = [ \"Mkt-RF\", \"SMB\", \"HML\", \"WML\"]\n",
    "            num_factors = four\n",
    "        else:\n",
    "            if num_factors == \"five\":\n",
    "                factors = [ \"Mkt-RF\", \"SMB\", \"HML\", \"RMW\", \"CMA\"]\n",
    "                num_factors = five\n",
    "            else:\n",
    "                pass             ###### zE ZAHÁDNÝHO DŮVODU MI to nešlo přes porovnání Parametru s dataframeme (three, four, five..), musel jsem teda přes string a návrat zpět\n",
    "    \n",
    "    \n",
    "    \n",
    "    for i in stocks:\n",
    "        returns =  data[[\"Date2\",\"Returns \" + i ]]\n",
    "        returns = returns.set_index('Date2')\n",
    "\n",
    "        merged = returns.merge(num_factors, left_index=True, right_index=True, how='inner')\n",
    "        data2 = merged.dropna()                    ### Tady byl jeden problém, proč mi to házelo hodně nul v R squared\n",
    " #       data2 = data2[len(data2)-100:len(data2)]    ############ Pokus na konci dat, abych viděl regresi na závěru - získal jsem i R2 20% konečně !!\n",
    "            \n",
    "        data2[\"EXCESS\"] = data2[\"Returns \" + i] - data2[\"RF\"]\n",
    "        \n",
    "        X = data2[factors]      ################ Tady to musím poladit asi IFem ,,,\n",
    "        y = data2[[\"EXCESS\"]]\n",
    "        \n",
    "        #plt.plot(y[len(y)-10:len(y)])            ###########x Tady pořád mi jde vykreslovat jen pár hodnot\n",
    "        #plt.show()                             ############# Subploty ještě pořád nevím jak dodělám\n",
    "        \n",
    "\n",
    "        split = split\n",
    "\n",
    "        train_X = X[0:round(split*len(X))]\n",
    "        train_y = y[0:round(split*len(y))]\n",
    "\n",
    "        test_X = X[round(split*len(X)):]\n",
    "        test_y = y[round(split*len(y)):]\n",
    "        \n",
    "        model = sm.OLS(train_y, train_X).fit()\n",
    "        predictions = model.predict(test_X) \n",
    "        #display(model.summary())                  ###### Celé summary asi nepotřebuju\n",
    "        display(\"R2: \", model.rsquared)\n",
    "        rms = sqrt(mean_squared_error(test_y, predictions))\n",
    "        display(\"RMSE: \", rms)\n",
    "        display(\"Length: \", len(data2))                                                 \n",
    "            \n",
    "        plt.plot(y[len(y)-100:len(y)])\n",
    "        plt.plot(predictions[len(predictions)-100:len(predictions)], color='red')\n",
    "\n",
    "        #fig = plt.gcf()\n",
    "        #fig.set_size_inches(10, 8)\n",
    "\n",
    "        plt.show()"
   ]
  },
  {
   "cell_type": "code",
   "execution_count": null,
   "metadata": {},
   "outputs": [],
   "source": [
    "akcie = [\"AAPL\", \"AMZN\", \"FB\", \"GOOG\",\"NFLX\", \"NKE\", \"SBUX\", \"TSLA\", \"XIACF\"]\n",
    "#akcie = [\"ATVI\", \"BABA\", \"AAL\", \"T\",\"BIDU\", \"BB\", \"BKNG\", \"CAJ\", \"CSCO\"]\n",
    "#akcie = [\"CLDR\", \"KO\", \"CROX\", \"DELL\", \"DAL\", \"DBX\", \"EBAY\", \"EA\", \"XOM\"]\n"
   ]
  },
  {
   "cell_type": "code",
   "execution_count": null,
   "metadata": {},
   "outputs": [],
   "source": [
    "prepare_OLS(stocks = akcie, data = data, num_factors = \"five\", split = 0.8)\n",
    "\n",
    "# Pozn: R2 vychází dobře jen když řeším třeba posledních 100 záznamů,  (38 %)\n",
    "# Když jedu na celý dataset, většinou je R2 kolem 7 % ...\n"
   ]
  },
  {
   "cell_type": "code",
   "execution_count": null,
   "metadata": {},
   "outputs": [],
   "source": []
  },
  {
   "cell_type": "code",
   "execution_count": null,
   "metadata": {},
   "outputs": [],
   "source": []
  },
  {
   "cell_type": "markdown",
   "metadata": {},
   "source": [
    "# 6. LSTM - simple time series"
   ]
  },
  {
   "cell_type": "code",
   "execution_count": null,
   "metadata": {},
   "outputs": [],
   "source": [
    "np.random.seed(7)\n",
    "\n",
    "y = y.values\n",
    "y = y.astype('float32')\n",
    "\n",
    "y = y.reshape(-1, 1)   \n",
    "\n",
    "# normalize the dataset\n",
    "scaler = MinMaxScaler(feature_range=(-1, 1))\n",
    "y = scaler.fit_transform(y)\n",
    "\n",
    "# split into train and test sets\n",
    "\n",
    "splitty = 0.8\n",
    "\n",
    "train_size = int(len(y) * splitty) \n",
    "test_size = len(y) - train_size    \n",
    "train = y[0:train_size, :]\n",
    "test = y[train_size:len(y), :] \n",
    "display(len(train), len(test))\n",
    "\n",
    "def create_dataset(dataset, look_back=10):        \n",
    "    dataX, dataY = [], []\n",
    "    for i in range(len(dataset)-look_back-1):   \n",
    "        a = dataset[i:(i+look_back), 0]         \n",
    "        dataX.append(a)                         \n",
    "        dataY.append(dataset[i + look_back, 0]) \n",
    "    return np.array(dataX), np.array(dataY)\n",
    "                                             \n",
    "\n",
    "# reshape into X=t and Y=t+1\n",
    "look_back = 5\n",
    "train_X, train_y = create_dataset(train, look_back)\n",
    "test_X, test_y = create_dataset(test, look_back)\n",
    "\n",
    "# reshape input to be [samples, time steps, features]\n",
    "train_X = np.reshape(train_X, (train_X.shape[0], 1, train_X.shape[1]))\n",
    "test_X = np.reshape(test_X, (test_X.shape[0], 1, test_X.shape[1]))\n",
    "\n",
    "\n",
    "# create and fit the LSTM network\n",
    "model = Sequential()\n",
    "model.add(LSTM(8, input_shape=(1, look_back)))\n",
    "model.add(Dense(4))    # Přidána nová vrstva...\n",
    "model.add(Dense(1))    \n",
    "model.compile(loss='mean_squared_error', optimizer='adam')\n",
    "\n",
    "# Activation = RELU?\n",
    "#8 = ??\n",
    "# v druhém Lstm nemám druhou vrstvu \n",
    "# taky tam mám batch 72 místo 1 ...\n",
    "\n",
    "\n",
    "\n",
    "model.fit(train_X, train_y, epochs=100, batch_size=1, verbose=2)\n",
    "\n",
    "### # make predictions\n",
    "trainPredict = model.predict(train_X)\n",
    "testPredict = model.predict(test_X)\n",
    "\n",
    "\n",
    "\n",
    "# invert predictions\n",
    "trainPredict = scaler.inverse_transform(trainPredict)\n",
    "train_y = scaler.inverse_transform([train_y])\n",
    "testPredict = scaler.inverse_transform(testPredict)\n",
    "test_y = scaler.inverse_transform([test_y])\n",
    "\n",
    "# calculate root mean squared error\n",
    "trainScore = math.sqrt(mean_squared_error(train_y[0], trainPredict[:,0]))\n",
    "print('Train Score: %.6f RMSE' % (trainScore))\n",
    "\n",
    "testScore = math.sqrt(mean_squared_error(test_y[0], testPredict[:,0]))\n",
    "print('Test Score: %.6f RMSE' % (testScore))\n",
    "\n",
    "\n",
    "                                                                   \n",
    "# shift train predictions for plotting\n",
    "\"\"\"trainPredictPlot = np.empty_like(y)\n",
    "trainPredictPlot[:, :] = np.nan\n",
    "trainPredictPlot[look_back:len(trainPredict)+look_back, :] = trainPredict     # úsek [5:37] naplň 32 hodnotami predikce\n",
    "\"\"\"\n",
    "# shift test predictions for plotting\n",
    "testPredictPlot = np.empty_like(y)\n",
    "testPredictPlot[:, :] = np.nan\n",
    "testPredictPlot[len(trainPredict)+(look_back*2)+1:len(y)-1, :] = testPredict \n",
    "\n",
    "# plot baseline and predictions\n",
    "plt.plot(scaler.inverse_transform(y))\n",
    "\"\"\"plt.plot(trainPredictPlot) \"\"\"\n",
    "\n",
    "plt.plot(testPredictPlot, color = \"green\")    #LSTM - začíná o pět tahů později kvůli \"lagu\"\n",
    "plt.plot(predictions, color='red')            #Regrese\n",
    "\n",
    "\n",
    "plt.show()\n",
    "\n",
    "\n",
    "\n",
    "# Detail na konec setu\n",
    "\n",
    "plt.plot(scaler.inverse_transform(y))\n",
    "plt.plot(testPredictPlot, color = \"green\")    #LSTM - začíná o pět tahů později kvůli \"lagu\"\n",
    "plt.plot(predictions, color='red')            #Regrese\n",
    "\n",
    "plt.xlim(len(X)*splitty-5,len(X))   \n",
    "plt.ylim(-0.12, 0.11)\n",
    "\n",
    "fig = plt.gcf()\n",
    "fig.set_size_inches(10, 8)\n",
    "# fig.savefig('test2png.png', dpi=100)\n",
    "\n",
    "plt.show()\n"
   ]
  },
  {
   "cell_type": "markdown",
   "metadata": {},
   "source": [
    "# 7. LSTM - time series + factors"
   ]
  },
  {
   "cell_type": "code",
   "execution_count": null,
   "metadata": {},
   "outputs": [],
   "source": []
  },
  {
   "cell_type": "code",
   "execution_count": null,
   "metadata": {},
   "outputs": [],
   "source": []
  },
  {
   "cell_type": "code",
   "execution_count": null,
   "metadata": {},
   "outputs": [],
   "source": []
  }
 ],
 "metadata": {
  "kernelspec": {
   "display_name": "Python 3",
   "language": "python",
   "name": "python3"
  },
  "language_info": {
   "codemirror_mode": {
    "name": "ipython",
    "version": 3
   },
   "file_extension": ".py",
   "mimetype": "text/x-python",
   "name": "python",
   "nbconvert_exporter": "python",
   "pygments_lexer": "ipython3",
   "version": "3.6.5"
  }
 },
 "nbformat": 4,
 "nbformat_minor": 2
}
