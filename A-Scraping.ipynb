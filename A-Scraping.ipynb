{
 "cells": [
  {
   "cell_type": "markdown",
   "metadata": {},
   "source": [
    "# Content\n",
    "Files prepared: \n",
    "* 1_stock_list.xlsx = 3800 stock names + exchange names\n",
    "* 2_names_all.xlsx = 3208 stock names + Indicies + Quotes + Country\n",
    "* 3067 CSV of stock prices scraped"
   ]
  },
  {
   "cell_type": "markdown",
   "metadata": {},
   "source": [
    "## 1) Installing Packages"
   ]
  },
  {
   "cell_type": "code",
   "execution_count": 2,
   "metadata": {},
   "outputs": [],
   "source": [
    "# 1.) General\n",
    "import pandas as pd\n",
    "import matplotlib.pyplot as plt\n",
    "from matplotlib.pyplot import figure  \n",
    "import numpy as np\n",
    "import math\n",
    "from pandas import DataFrame\n",
    "from math import sqrt\n",
    "from datetime import datetime\n",
    "import csv\n",
    "import time\n",
    "from datetime import date\n",
    "\n",
    "# 2.) Scrapping\n",
    "import requests                  \n",
    "import lxml.html as lh\n",
    "from bs4 import BeautifulSoup\n",
    "\n",
    "from selenium import webdriver\n",
    "from selenium.webdriver.common.action_chains import ActionChains      # ?????\n",
    "from time import sleep\n",
    "\n",
    "import shutil"
   ]
  },
  {
   "cell_type": "markdown",
   "metadata": {},
   "source": [
    "## 2) Loading list of 3800 stock names and exchanges"
   ]
  },
  {
   "cell_type": "code",
   "execution_count": 5,
   "metadata": {},
   "outputs": [
    {
     "data": {
      "text/html": [
       "<div>\n",
       "<style scoped>\n",
       "    .dataframe tbody tr th:only-of-type {\n",
       "        vertical-align: middle;\n",
       "    }\n",
       "\n",
       "    .dataframe tbody tr th {\n",
       "        vertical-align: top;\n",
       "    }\n",
       "\n",
       "    .dataframe thead th {\n",
       "        text-align: right;\n",
       "    }\n",
       "</style>\n",
       "<table border=\"1\" class=\"dataframe\">\n",
       "  <thead>\n",
       "    <tr style=\"text-align: right;\">\n",
       "      <th></th>\n",
       "      <th>Names</th>\n",
       "      <th>Exchange</th>\n",
       "    </tr>\n",
       "  </thead>\n",
       "  <tbody>\n",
       "    <tr>\n",
       "      <th>0</th>\n",
       "      <td>1PM PLC</td>\n",
       "      <td>London</td>\n",
       "    </tr>\n",
       "    <tr>\n",
       "      <th>1</th>\n",
       "      <td>1SPATIAL PLC</td>\n",
       "      <td>London</td>\n",
       "    </tr>\n",
       "    <tr>\n",
       "      <th>2</th>\n",
       "      <td>3I GROUP PLC</td>\n",
       "      <td>London</td>\n",
       "    </tr>\n",
       "    <tr>\n",
       "      <th>3</th>\n",
       "      <td>3I INFRASTRUCTURE PLC</td>\n",
       "      <td>London</td>\n",
       "    </tr>\n",
       "    <tr>\n",
       "      <th>4</th>\n",
       "      <td>4D PHARMA PLC</td>\n",
       "      <td>London</td>\n",
       "    </tr>\n",
       "    <tr>\n",
       "      <th>5</th>\n",
       "      <td>4IMPRINT GROUP PLC</td>\n",
       "      <td>London</td>\n",
       "    </tr>\n",
       "    <tr>\n",
       "      <th>6</th>\n",
       "      <td>600 GROUP PLC</td>\n",
       "      <td>London</td>\n",
       "    </tr>\n",
       "    <tr>\n",
       "      <th>7</th>\n",
       "      <td>7DIGITAL GROUP PLC</td>\n",
       "      <td>London</td>\n",
       "    </tr>\n",
       "    <tr>\n",
       "      <th>8</th>\n",
       "      <td>888 HOLDINGS PLC</td>\n",
       "      <td>London</td>\n",
       "    </tr>\n",
       "    <tr>\n",
       "      <th>9</th>\n",
       "      <td>88 ENERGY LIMITED</td>\n",
       "      <td>London</td>\n",
       "    </tr>\n",
       "  </tbody>\n",
       "</table>\n",
       "</div>"
      ],
      "text/plain": [
       "                   Names Exchange\n",
       "0                1PM PLC   London\n",
       "1           1SPATIAL PLC   London\n",
       "2           3I GROUP PLC   London\n",
       "3  3I INFRASTRUCTURE PLC   London\n",
       "4          4D PHARMA PLC   London\n",
       "5     4IMPRINT GROUP PLC   London\n",
       "6          600 GROUP PLC   London\n",
       "7     7DIGITAL GROUP PLC   London\n",
       "8       888 HOLDINGS PLC   London\n",
       "9      88 ENERGY LIMITED   London"
      ]
     },
     "execution_count": 5,
     "metadata": {},
     "output_type": "execute_result"
    }
   ],
   "source": [
    "path = \"C:/Users/Desktop/Python/stocks/\"\n",
    "\n",
    "names = pd.read_excel(path + \"1_stock_list.xlsx\" )\n",
    "names.head(10)"
   ]
  },
  {
   "cell_type": "markdown",
   "metadata": {},
   "source": [
    "## 3) Scraping Indicies from Yahoo Finance\n",
    "### 4-5 hours !!"
   ]
  },
  {
   "cell_type": "code",
   "execution_count": null,
   "metadata": {},
   "outputs": [],
   "source": [
    "\n",
    "def get_indicies(stock_names):\n",
    "    \n",
    "    names = []\n",
    "     \n",
    "    # open browser    \n",
    "    browser = webdriver.Chrome()\n",
    "    url = \"https://finance.yahoo.com\"\n",
    "    browser.get(url)\n",
    "    \n",
    "    # click on AGREE - might be changed time by time\n",
    "    agree = browser.find_elements_by_xpath(\"/html/body/div/div/div/div/div[2]/div[2]/form/button\")[0]\n",
    "    hover = ActionChains(browser).move_to_element(agree)\n",
    "    hover.perform()\n",
    "    agree.click()\n",
    "    \n",
    "    # The whole loop is processed in a single browser window\n",
    "    for i in range(len(stock_names)):      \n",
    "        \n",
    "        # Click to the search row\n",
    "        find_stock = browser.find_elements_by_xpath('/html/body/div[1]/div/div/div[1]/div/div[1]/div[1]/div/div/div[1]/div/div/div/div[1]/div/div[2]/div/form/input[1]')[0]\n",
    "        hover = ActionChains(browser).move_to_element(find_stock)\n",
    "        hover.perform()\n",
    "        find_stock.click()\n",
    "        \n",
    "        # Insert stock name\n",
    "        find_stock.send_keys(stock_names.loc[i].Names)  \n",
    "        ### ILOC works with the real index of the row (starts with 0), while LOC works with the original values, before slicing (until we reset index)\n",
    "        ### in this case both can be used\n",
    "            \n",
    "        time.sleep(1)\n",
    "        ### Helps a little, but still, sometimes the last searched value is automatically put in the search row... could be checked in the end\n",
    "        \n",
    "        # try click on Search button\n",
    "        try: \n",
    "            find_button = browser.find_elements_by_xpath(\"/html/body/div[1]/div/div/div[1]/div/div[1]/div[1]/div/div/div[1]/div/div/div/div[1]/div/div[2]/div/form/div[1]/button\")[0]\n",
    "            hover = ActionChains(browser).move_to_element(find_button)\n",
    "            hover.perform()\n",
    "            find_button.click()\n",
    "\n",
    "        # Wait a sec; If there is a name, take it\n",
    "            time.sleep(1)\n",
    "            name = browser.find_element_by_xpath(\"/html/body/div[1]/div/div/div[1]/div/div[2]/div/div/div[4]/div/div/div/div[2]/div[1]/div[1]/h1\").text\n",
    "            names.append(name)\n",
    "            \n",
    "        # If failed, save error and open the browser, again\n",
    "        except:\n",
    "            names.append(\"error\")\n",
    "            url = \"https://finance.yahoo.com\"\n",
    "            browser.get(url)\n",
    "    \n",
    "            # click on AGREE, if it shows up\n",
    "            try:\n",
    "                agree = browser.find_elements_by_xpath(\"/html/body/div/div/div/div/div[2]/div[2]/form/button\")[0]\n",
    "                hover = ActionChains(browser).move_to_element(agree)\n",
    "                hover.perform()\n",
    "                agree.click()\n",
    "            except:\n",
    "                pass\n",
    "        \n",
    "        print(str(i))\n",
    "        print(stock_names.loc[i].Names)\n",
    "        time.sleep(1)\n",
    "    \n",
    "    # In the end, quit the browser\n",
    "    browser.quit()\n",
    " \n",
    "    return(names)   "
   ]
  },
  {
   "cell_type": "code",
   "execution_count": null,
   "metadata": {},
   "outputs": [],
   "source": [
    "### Takes 4-5 hours !!\n",
    "\n",
    "INDICIES = get_indicies(#names)\n",
    "np.savetxt(path + \"indicies.csv\", INDICIES, delimiter=\",\", fmt='%s', encoding = \"ISO-8859-1\")"
   ]
  },
  {
   "cell_type": "markdown",
   "metadata": {},
   "source": [
    "### 3.1 Check of Errors"
   ]
  },
  {
   "cell_type": "code",
   "execution_count": null,
   "metadata": {},
   "outputs": [],
   "source": [
    "df = pd.Series([])\n",
    "data = pd.read_csv(path + \"indicies.csv\", header = None, sep = \":\", encoding = \"ISO-8859-1\")\n",
    "df = df.append(data[0])\n",
    "\n",
    "display(len(df))\n",
    "df.reset_index(drop= True, inplace = True)\n",
    "\n",
    "# Percentage of errors\n",
    "display(len(df[df == \"error\"])/len(df))\n",
    "df.head()"
   ]
  },
  {
   "cell_type": "markdown",
   "metadata": {},
   "source": [
    "### 3.2 Adding Indicies to Names"
   ]
  },
  {
   "cell_type": "code",
   "execution_count": 9,
   "metadata": {},
   "outputs": [
    {
     "data": {
      "text/html": [
       "<div>\n",
       "<style scoped>\n",
       "    .dataframe tbody tr th:only-of-type {\n",
       "        vertical-align: middle;\n",
       "    }\n",
       "\n",
       "    .dataframe tbody tr th {\n",
       "        vertical-align: top;\n",
       "    }\n",
       "\n",
       "    .dataframe thead th {\n",
       "        text-align: right;\n",
       "    }\n",
       "</style>\n",
       "<table border=\"1\" class=\"dataframe\">\n",
       "  <thead>\n",
       "    <tr style=\"text-align: right;\">\n",
       "      <th></th>\n",
       "      <th>Names</th>\n",
       "      <th>Exchange</th>\n",
       "      <th>Indicies</th>\n",
       "    </tr>\n",
       "  </thead>\n",
       "  <tbody>\n",
       "    <tr>\n",
       "      <th>2423</th>\n",
       "      <td>ORDINA</td>\n",
       "      <td>Euronext Amsterdam</td>\n",
       "      <td>ALL ORDINARIES (^AORD)</td>\n",
       "    </tr>\n",
       "    <tr>\n",
       "      <th>1985</th>\n",
       "      <td>STEINHOFF INTERNATIONAL HLDG.EO-,50</td>\n",
       "      <td>Deutsche Boerse</td>\n",
       "      <td>S&amp;P 500 (^GSPC)</td>\n",
       "    </tr>\n",
       "    <tr>\n",
       "      <th>2138</th>\n",
       "      <td>EURONEXT</td>\n",
       "      <td>Euronext Lisbon</td>\n",
       "      <td>EURONEXT 100 (^N100)</td>\n",
       "    </tr>\n",
       "    <tr>\n",
       "      <th>2091</th>\n",
       "      <td>PEARL GOLD AG</td>\n",
       "      <td>Deutsche Boerse</td>\n",
       "      <td>Pearl Gold AG (02P.F)</td>\n",
       "    </tr>\n",
       "    <tr>\n",
       "      <th>707</th>\n",
       "      <td>HANATOUR SERVICE INC.</td>\n",
       "      <td>London</td>\n",
       "      <td>Hanatour Service Inc. (039130.KS)</td>\n",
       "    </tr>\n",
       "  </tbody>\n",
       "</table>\n",
       "</div>"
      ],
      "text/plain": [
       "                                    Names            Exchange  \\\n",
       "2423                               ORDINA  Euronext Amsterdam   \n",
       "1985  STEINHOFF INTERNATIONAL HLDG.EO-,50     Deutsche Boerse   \n",
       "2138                             EURONEXT     Euronext Lisbon   \n",
       "2091                        PEARL GOLD AG     Deutsche Boerse   \n",
       "707                 HANATOUR SERVICE INC.              London   \n",
       "\n",
       "                               Indicies  \n",
       "2423             ALL ORDINARIES (^AORD)  \n",
       "1985                    S&P 500 (^GSPC)  \n",
       "2138               EURONEXT 100 (^N100)  \n",
       "2091              Pearl Gold AG (02P.F)  \n",
       "707   Hanatour Service Inc. (039130.KS)  "
      ]
     },
     "execution_count": 9,
     "metadata": {},
     "output_type": "execute_result"
    }
   ],
   "source": [
    "names[\"Indicies\"] = df.copy() \n",
    "names.head()"
   ]
  },
  {
   "cell_type": "markdown",
   "metadata": {},
   "source": [
    "### 3.3 Getting Quotes out of Indicies"
   ]
  },
  {
   "cell_type": "code",
   "execution_count": 12,
   "metadata": {},
   "outputs": [
    {
     "data": {
      "text/html": [
       "<div>\n",
       "<style scoped>\n",
       "    .dataframe tbody tr th:only-of-type {\n",
       "        vertical-align: middle;\n",
       "    }\n",
       "\n",
       "    .dataframe tbody tr th {\n",
       "        vertical-align: top;\n",
       "    }\n",
       "\n",
       "    .dataframe thead th {\n",
       "        text-align: right;\n",
       "    }\n",
       "</style>\n",
       "<table border=\"1\" class=\"dataframe\">\n",
       "  <thead>\n",
       "    <tr style=\"text-align: right;\">\n",
       "      <th></th>\n",
       "      <th>Names</th>\n",
       "      <th>Exchange</th>\n",
       "      <th>Indicies</th>\n",
       "      <th>Quotes</th>\n",
       "    </tr>\n",
       "  </thead>\n",
       "  <tbody>\n",
       "    <tr>\n",
       "      <th>2027</th>\n",
       "      <td>ZOOPLUS AG</td>\n",
       "      <td>Deutsche Boerse</td>\n",
       "      <td>zooplus AG (ZO1.DE)</td>\n",
       "      <td>ZO1.DE</td>\n",
       "    </tr>\n",
       "    <tr>\n",
       "      <th>1750</th>\n",
       "      <td>ZOETIC INTERNATIONAL PLC</td>\n",
       "      <td>London</td>\n",
       "      <td>Zoetic International Plc (ZOE.L)</td>\n",
       "      <td>ZOE.L</td>\n",
       "    </tr>\n",
       "    <tr>\n",
       "      <th>1751</th>\n",
       "      <td>ZOLTAV RESOURCES INC</td>\n",
       "      <td>London</td>\n",
       "      <td>Zoltav Resources Inc. (ZOL.L)</td>\n",
       "      <td>ZOL.L</td>\n",
       "    </tr>\n",
       "    <tr>\n",
       "      <th>1753</th>\n",
       "      <td>ZOTEFOAMS PLC</td>\n",
       "      <td>London</td>\n",
       "      <td>Zotefoams plc (ZTF.L)</td>\n",
       "      <td>ZTF.L</td>\n",
       "    </tr>\n",
       "    <tr>\n",
       "      <th>1754</th>\n",
       "      <td>ZYTRONIC PLC</td>\n",
       "      <td>London</td>\n",
       "      <td>Zytronic plc (ZYT.L)</td>\n",
       "      <td>ZYT.L</td>\n",
       "    </tr>\n",
       "  </tbody>\n",
       "</table>\n",
       "</div>"
      ],
      "text/plain": [
       "                         Names         Exchange  \\\n",
       "2027                ZOOPLUS AG  Deutsche Boerse   \n",
       "1750  ZOETIC INTERNATIONAL PLC           London   \n",
       "1751      ZOLTAV RESOURCES INC           London   \n",
       "1753             ZOTEFOAMS PLC           London   \n",
       "1754              ZYTRONIC PLC           London   \n",
       "\n",
       "                              Indicies  Quotes  \n",
       "2027               zooplus AG (ZO1.DE)  ZO1.DE  \n",
       "1750  Zoetic International Plc (ZOE.L)   ZOE.L  \n",
       "1751     Zoltav Resources Inc. (ZOL.L)   ZOL.L  \n",
       "1753             Zotefoams plc (ZTF.L)   ZTF.L  \n",
       "1754              Zytronic plc (ZYT.L)   ZYT.L  "
      ]
     },
     "execution_count": 12,
     "metadata": {},
     "output_type": "execute_result"
    }
   ],
   "source": [
    "def quotes(s):\n",
    "\n",
    "    x = s[s.find(\"(\")+1:s.find(\")\")]\n",
    "    return x\n",
    "\n",
    "names[\"Quotes\"] = names[\"Indicies\"].apply(quotes)\n",
    "names.tail()"
   ]
  },
  {
   "cell_type": "markdown",
   "metadata": {},
   "source": [
    "### 3.4 Check of Duplicates, Drop"
   ]
  },
  {
   "cell_type": "code",
   "execution_count": 14,
   "metadata": {},
   "outputs": [
    {
     "data": {
      "text/plain": [
       "3208"
      ]
     },
     "metadata": {},
     "output_type": "display_data"
    },
    {
     "data": {
      "text/plain": [
       "3208"
      ]
     },
     "metadata": {},
     "output_type": "display_data"
    }
   ],
   "source": [
    "display(len(names))\n",
    "\n",
    "# Check duplicates\n",
    "names[names[\"Quotes\"].duplicated( keep = False)].sort_values(by = [\"Quotes\"], axis=0)\n",
    "\n",
    "# Drop duplicates\n",
    "names.drop_duplicates(subset =\"Quotes\",keep = \"first\", inplace = True) \n",
    "names.reset_index(drop= True, inplace = True)\n",
    "\n",
    "display(len(names))"
   ]
  },
  {
   "cell_type": "markdown",
   "metadata": {},
   "source": [
    "## 4) Scraping daily data for Indicies\n",
    "### OLD VERSION, TOO SLOW  -> Try 5) !!"
   ]
  },
  {
   "cell_type": "code",
   "execution_count": null,
   "metadata": {},
   "outputs": [],
   "source": [
    "def data_dwn_OLD(stocks):\n",
    "\n",
    "    for i in stocks:\n",
    "        \n",
    "        # For each stock open browser - could be better ?\n",
    "        browser = webdriver.Chrome()\n",
    "                                                                 # This time period corresponds to all the history up to the 31.12.2019\n",
    "        url = \"https://finance.yahoo.com/quote/\" + str(i) + \"/history?period1=10104800&period2=1577919600&interval=1d&filter=history&frequency=1d\"\n",
    "                                \n",
    "        browser.get(url)\n",
    "\n",
    "        \n",
    "        # This clicks on AGREE, if there is a warning     \n",
    "        try:\n",
    "            agree = browser.find_elements_by_xpath(\"/html/body/div/div/div/div/div[2]/div[2]/form/button\")[0]\n",
    "            hover = ActionChains(browser).move_to_element(agree)\n",
    "            hover.perform()\n",
    "            agree.click()\n",
    "\n",
    "        except:\n",
    "            pass\n",
    "        \n",
    "        sleep(2)\n",
    "        \n",
    "        # Clicks on Download -> CSV is downloaded\n",
    "        play = browser.find_elements_by_xpath('/html/body/div[1]/div/div/div[1]/div/div[3]/div[1]/div/div[2]/div/div/section/div[1]/div[2]/span[2]/a/span')[0]       \n",
    "        hover = ActionChains(browser).move_to_element(play)\n",
    "        hover.perform()\n",
    "        play.click()\n",
    "        \n",
    "        sleep(2)\n",
    "        \n",
    "        browser.quit()\n",
    "   "
   ]
  },
  {
   "cell_type": "code",
   "execution_count": null,
   "metadata": {},
   "outputs": [],
   "source": [
    "\n",
    "data_dwn_OLD(names.Quotes)"
   ]
  },
  {
   "cell_type": "markdown",
   "metadata": {},
   "source": [
    "## 5) Scraping daily data for Indicies\n",
    "### Better version, YAHOO API instead of pressing download button. No Selenium needed\n",
    "*  3208 -> 3067 scraped\n",
    "* takes about 1 hour"
   ]
  },
  {
   "cell_type": "code",
   "execution_count": null,
   "metadata": {},
   "outputs": [],
   "source": [
    "def data_dwn(stocks):\n",
    "    \n",
    "    # One web browser window is needed\n",
    "    browser = webdriver.Chrome()\n",
    "    \n",
    "    # for all 3208 stocks, use API to download CSVs\n",
    "    for i in stocks:\n",
    "                                                                            # This time period corresponds to all the history up to the 31.12.2019\n",
    "        url = \"https://query1.finance.yahoo.com/v7/finance/download/\" + str(i) + \"?period1=10104800&period2=1577919600&interval=1d&events=history\"\n",
    "                                \n",
    "        browser.get(url)\n",
    "        sleep(0.5)\n",
    "    browser.quit()\n",
    "    "
   ]
  },
  {
   "cell_type": "code",
   "execution_count": null,
   "metadata": {},
   "outputs": [],
   "source": [
    "# Takes about 1 hour\n",
    "\n",
    "data_dwn(names.Quotes)"
   ]
  },
  {
   "cell_type": "markdown",
   "metadata": {},
   "source": []
  },
  {
   "cell_type": "markdown",
   "metadata": {},
   "source": [
    "## 6.) Separate Country from Quote\n"
   ]
  },
  {
   "cell_type": "code",
   "execution_count": 17,
   "metadata": {},
   "outputs": [
    {
     "data": {
      "text/html": [
       "<div>\n",
       "<style scoped>\n",
       "    .dataframe tbody tr th:only-of-type {\n",
       "        vertical-align: middle;\n",
       "    }\n",
       "\n",
       "    .dataframe tbody tr th {\n",
       "        vertical-align: top;\n",
       "    }\n",
       "\n",
       "    .dataframe thead th {\n",
       "        text-align: right;\n",
       "    }\n",
       "</style>\n",
       "<table border=\"1\" class=\"dataframe\">\n",
       "  <thead>\n",
       "    <tr style=\"text-align: right;\">\n",
       "      <th></th>\n",
       "      <th>Names</th>\n",
       "      <th>Exchange</th>\n",
       "      <th>Indicies</th>\n",
       "      <th>Quotes</th>\n",
       "      <th>Country</th>\n",
       "    </tr>\n",
       "  </thead>\n",
       "  <tbody>\n",
       "    <tr>\n",
       "      <th>2423</th>\n",
       "      <td>ORDINA</td>\n",
       "      <td>Euronext Amsterdam</td>\n",
       "      <td>ALL ORDINARIES (^AORD)</td>\n",
       "      <td>^AORD</td>\n",
       "      <td>-</td>\n",
       "    </tr>\n",
       "    <tr>\n",
       "      <th>1985</th>\n",
       "      <td>STEINHOFF INTERNATIONAL HLDG.EO-,50</td>\n",
       "      <td>Deutsche Boerse</td>\n",
       "      <td>S&amp;P 500 (^GSPC)</td>\n",
       "      <td>^GSPC</td>\n",
       "      <td>-</td>\n",
       "    </tr>\n",
       "    <tr>\n",
       "      <th>2138</th>\n",
       "      <td>EURONEXT</td>\n",
       "      <td>Euronext Lisbon</td>\n",
       "      <td>EURONEXT 100 (^N100)</td>\n",
       "      <td>^N100</td>\n",
       "      <td>-</td>\n",
       "    </tr>\n",
       "    <tr>\n",
       "      <th>2091</th>\n",
       "      <td>PEARL GOLD AG</td>\n",
       "      <td>Deutsche Boerse</td>\n",
       "      <td>Pearl Gold AG (02P.F)</td>\n",
       "      <td>02P.F</td>\n",
       "      <td>F</td>\n",
       "    </tr>\n",
       "    <tr>\n",
       "      <th>707</th>\n",
       "      <td>HANATOUR SERVICE INC.</td>\n",
       "      <td>London</td>\n",
       "      <td>Hanatour Service Inc. (039130.KS)</td>\n",
       "      <td>039130.KS</td>\n",
       "      <td>KS</td>\n",
       "    </tr>\n",
       "  </tbody>\n",
       "</table>\n",
       "</div>"
      ],
      "text/plain": [
       "                                    Names            Exchange  \\\n",
       "2423                               ORDINA  Euronext Amsterdam   \n",
       "1985  STEINHOFF INTERNATIONAL HLDG.EO-,50     Deutsche Boerse   \n",
       "2138                             EURONEXT     Euronext Lisbon   \n",
       "2091                        PEARL GOLD AG     Deutsche Boerse   \n",
       "707                 HANATOUR SERVICE INC.              London   \n",
       "\n",
       "                               Indicies     Quotes Country  \n",
       "2423             ALL ORDINARIES (^AORD)      ^AORD       -  \n",
       "1985                    S&P 500 (^GSPC)      ^GSPC       -  \n",
       "2138               EURONEXT 100 (^N100)      ^N100       -  \n",
       "2091              Pearl Gold AG (02P.F)      02P.F       F  \n",
       "707   Hanatour Service Inc. (039130.KS)  039130.KS      KS  "
      ]
     },
     "execution_count": 17,
     "metadata": {},
     "output_type": "execute_result"
    }
   ],
   "source": [
    "def country(x):\n",
    "    y = x.split(\".\")\n",
    "    if len(y) > 1:\n",
    "        return y[-1]\n",
    "    else:\n",
    "        return \"-\"\n",
    "\n",
    "names[\"Country\"] = names[\"Quotes\"].apply(country)\n",
    "\n",
    "names.head()"
   ]
  },
  {
   "cell_type": "markdown",
   "metadata": {},
   "source": [
    "### 6.1 List all countries"
   ]
  },
  {
   "cell_type": "code",
   "execution_count": 18,
   "metadata": {},
   "outputs": [
    {
     "data": {
      "text/plain": [
       "42"
      ]
     },
     "metadata": {},
     "output_type": "display_data"
    }
   ],
   "source": [
    "countries = names.Country.unique()\n",
    "display(len(countries))\n"
   ]
  },
  {
   "cell_type": "code",
   "execution_count": 20,
   "metadata": {},
   "outputs": [
    {
     "data": {
      "text/plain": [
       "Country\n",
       "-     260\n",
       "AS    100\n",
       "AT      1\n",
       "AX      9\n",
       "BE     28\n",
       "Name: Quotes, dtype: int64"
      ]
     },
     "execution_count": 20,
     "metadata": {},
     "output_type": "execute_result"
    }
   ],
   "source": [
    "names.groupby('Country')['Quotes'].nunique().head()"
   ]
  },
  {
   "cell_type": "markdown",
   "metadata": {},
   "source": [
    "## 7) The end of the Part 1"
   ]
  }
 ],
 "metadata": {
  "kernelspec": {
   "display_name": "Python 3",
   "language": "python",
   "name": "python3"
  },
  "language_info": {
   "codemirror_mode": {
    "name": "ipython",
    "version": 3
   },
   "file_extension": ".py",
   "mimetype": "text/x-python",
   "name": "python",
   "nbconvert_exporter": "python",
   "pygments_lexer": "ipython3",
   "version": "3.6.5"
  }
 },
 "nbformat": 4,
 "nbformat_minor": 4
}
