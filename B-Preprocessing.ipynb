{
 "cells": [
  {
   "cell_type": "markdown",
   "metadata": {},
   "source": [
    "# Content\n",
    "Files prepared: \n",
    "* 1_stock_list.xlsx = 3800 stock names + exchange names\n",
    "* 2_names_all.xlsx = 3208 stock names + Indicies\n",
    "* 3_names_with_curr.xlsx = 2_... + Currencies manually inputed + Indicator of rare currencies\n",
    "* 3067 CSV of stock prices scraped\n",
    "* 2996 stocks converted\n",
    "* AIR.L.csv = stock for referential date column"
   ]
  },
  {
   "cell_type": "markdown",
   "metadata": {},
   "source": [
    "## 1) Installing Packages"
   ]
  },
  {
   "cell_type": "code",
   "execution_count": 1,
   "metadata": {},
   "outputs": [],
   "source": [
    "# 1.) General\n",
    "import pandas as pd\n",
    "import matplotlib.pyplot as plt\n",
    "from matplotlib.pyplot import figure  \n",
    "import numpy as np\n",
    "import math\n",
    "from pandas import DataFrame\n",
    "from math import sqrt\n",
    "from datetime import datetime\n",
    "import csv\n",
    "import time\n",
    "from datetime import date\n"
   ]
  },
  {
   "cell_type": "markdown",
   "metadata": {},
   "source": [
    "## 2) Loading data from Notebook 1 - Scraping + Currencies\n",
    "* ! Currencies were inputed manually based on the countries\n",
    "* There was also added two Indicators of rare currencies to drop: 3208 -> 3129"
   ]
  },
  {
   "cell_type": "code",
   "execution_count": 13,
   "metadata": {},
   "outputs": [
    {
     "data": {
      "text/html": [
       "<div>\n",
       "<style scoped>\n",
       "    .dataframe tbody tr th:only-of-type {\n",
       "        vertical-align: middle;\n",
       "    }\n",
       "\n",
       "    .dataframe tbody tr th {\n",
       "        vertical-align: top;\n",
       "    }\n",
       "\n",
       "    .dataframe thead th {\n",
       "        text-align: right;\n",
       "    }\n",
       "</style>\n",
       "<table border=\"1\" class=\"dataframe\">\n",
       "  <thead>\n",
       "    <tr style=\"text-align: right;\">\n",
       "      <th></th>\n",
       "      <th>Names</th>\n",
       "      <th>Exchange</th>\n",
       "      <th>Indicies</th>\n",
       "      <th>Quotes</th>\n",
       "      <th>Country</th>\n",
       "      <th>Currency</th>\n",
       "      <th>Drop</th>\n",
       "    </tr>\n",
       "  </thead>\n",
       "  <tbody>\n",
       "    <tr>\n",
       "      <th>2423</th>\n",
       "      <td>ORDINA</td>\n",
       "      <td>Euronext Amsterdam</td>\n",
       "      <td>ALL ORDINARIES (^AORD)</td>\n",
       "      <td>^AORD</td>\n",
       "      <td>-</td>\n",
       "      <td>USD</td>\n",
       "      <td>NaN</td>\n",
       "    </tr>\n",
       "    <tr>\n",
       "      <th>1985</th>\n",
       "      <td>STEINHOFF INTERNATIONAL HLDG.EO-,50</td>\n",
       "      <td>Deutsche Boerse</td>\n",
       "      <td>S&amp;P 500 (^GSPC)</td>\n",
       "      <td>^GSPC</td>\n",
       "      <td>-</td>\n",
       "      <td>USD</td>\n",
       "      <td>NaN</td>\n",
       "    </tr>\n",
       "    <tr>\n",
       "      <th>2138</th>\n",
       "      <td>EURONEXT</td>\n",
       "      <td>Euronext Lisbon</td>\n",
       "      <td>EURONEXT 100 (^N100)</td>\n",
       "      <td>^N100</td>\n",
       "      <td>-</td>\n",
       "      <td>USD</td>\n",
       "      <td>NaN</td>\n",
       "    </tr>\n",
       "    <tr>\n",
       "      <th>2091</th>\n",
       "      <td>PEARL GOLD AG</td>\n",
       "      <td>Deutsche Boerse</td>\n",
       "      <td>Pearl Gold AG (02P.F)</td>\n",
       "      <td>02P.F</td>\n",
       "      <td>F</td>\n",
       "      <td>EUR</td>\n",
       "      <td>NaN</td>\n",
       "    </tr>\n",
       "    <tr>\n",
       "      <th>707</th>\n",
       "      <td>HANATOUR SERVICE INC.</td>\n",
       "      <td>London</td>\n",
       "      <td>Hanatour Service Inc. (039130.KS)</td>\n",
       "      <td>039130.KS</td>\n",
       "      <td>KS</td>\n",
       "      <td>KRW</td>\n",
       "      <td>Y</td>\n",
       "    </tr>\n",
       "  </tbody>\n",
       "</table>\n",
       "</div>"
      ],
      "text/plain": [
       "                                    Names            Exchange  \\\n",
       "2423                               ORDINA  Euronext Amsterdam   \n",
       "1985  STEINHOFF INTERNATIONAL HLDG.EO-,50     Deutsche Boerse   \n",
       "2138                             EURONEXT     Euronext Lisbon   \n",
       "2091                        PEARL GOLD AG     Deutsche Boerse   \n",
       "707                 HANATOUR SERVICE INC.              London   \n",
       "\n",
       "                               Indicies     Quotes Country Currency Drop  \n",
       "2423             ALL ORDINARIES (^AORD)      ^AORD       -      USD  NaN  \n",
       "1985                    S&P 500 (^GSPC)      ^GSPC       -      USD  NaN  \n",
       "2138               EURONEXT 100 (^N100)      ^N100       -      USD  NaN  \n",
       "2091              Pearl Gold AG (02P.F)      02P.F       F      EUR  NaN  \n",
       "707   Hanatour Service Inc. (039130.KS)  039130.KS      KS      KRW    Y  "
      ]
     },
     "execution_count": 13,
     "metadata": {},
     "output_type": "execute_result"
    }
   ],
   "source": [
    "path = \"C:/Users/Desktop/Python/stocks/\"\n",
    "\n",
    "df = pd.read_excel(path + \"3_names_with_curr.xlsx\")\n",
    "df.head()"
   ]
  },
  {
   "cell_type": "code",
   "execution_count": 14,
   "metadata": {},
   "outputs": [
    {
     "data": {
      "text/plain": [
       "Currency\n",
       "AUD       9\n",
       "CAD      10\n",
       "CHF       5\n",
       "DKK       1\n",
       "EUR    1386\n",
       "GBP    1456\n",
       "HKD       2\n",
       "IDR       1\n",
       "INR      10\n",
       "JPY       2\n",
       "KRW       3\n",
       "MXN       1\n",
       "NOK       1\n",
       "RUB      20\n",
       "SGD       1\n",
       "THB       1\n",
       "TWD      11\n",
       "USD     287\n",
       "ZAC       1\n",
       "Name: Quotes, dtype: int64"
      ]
     },
     "execution_count": 14,
     "metadata": {},
     "output_type": "execute_result"
    }
   ],
   "source": [
    "df.groupby('Currency')['Quotes'].nunique()"
   ]
  },
  {
   "cell_type": "markdown",
   "metadata": {},
   "source": [
    "## 3) Dropping\n",
    "\n",
    "### 3.1) Drop of the rare currencies 3208 -> 3129"
   ]
  },
  {
   "cell_type": "code",
   "execution_count": 15,
   "metadata": {},
   "outputs": [
    {
     "data": {
      "text/plain": [
       "3129"
      ]
     },
     "metadata": {},
     "output_type": "display_data"
    },
    {
     "data": {
      "text/plain": [
       "Currency\n",
       "EUR    1386\n",
       "GBP    1456\n",
       "USD     287\n",
       "Name: Quotes, dtype: int64"
      ]
     },
     "execution_count": 15,
     "metadata": {},
     "output_type": "execute_result"
    }
   ],
   "source": [
    "df = df[df.Drop != \"Y\"]\n",
    "df = df[df.Drop != \"M\"]\n",
    "\n",
    "df.reset_index(inplace = True, drop = True)\n",
    "display(len(df))\n",
    "df.groupby('Currency')['Quotes'].nunique()"
   ]
  },
  {
   "cell_type": "markdown",
   "metadata": {},
   "source": [
    "### 3.2) Dropping extreme values - structural breaks - \"weirdly acting stocks\"\n",
    "\n",
    "* This is what I actualyl found out after the step 5.3)"
   ]
  },
  {
   "cell_type": "code",
   "execution_count": null,
   "metadata": {},
   "outputs": [],
   "source": [
    "droppy = [\"SERE.L\", \"GWMGF\", \"EUZ.L\", \"VAL.L\", \"ERIS.L\", \"ROL.L\" ,\"EUA.L\" ,\"CNS.L\", \"SCF.L\", \"UANC.L\" , \"KGF.L\" , \"PIRI.L\", \"LOOP.L\", \"CGO.L\", \"SPA.L\" , \"GRA.L\" , \"IVPG.L\" , \"SKIN.L\", \"BGEU.L\",\\\n",
    " \"BOO.L\", \"SRT.L\", \"CPP.L\" , \"GUN.L\" , \"PHM.L\" , \"KIBO.L\", \"MTR.L\", \"HYVE.L\", \"URU.L\", \"BPM.L\" ,\"SENX.L\", \"ADAM.L\", \"BOOM.L\", \"BZPA.F\", \"ALDV.PA\", \"OPP.L\", \"SDXEF\", \"ADN1.DE\", \"NBB.L\" , \"MIRA.L\" , \\\n",
    " \"VAF.LS\" , \"ALCES.PA\", \"SGRO.L\" , \"ZENT.BR\" , \"NSI.AS\", \"IEM.L\", \"DGN.L\" , \"CTY.L\", \"LWDB.L\", \"DGN.L\", \"BHGG.L\", \"MLEVE.PA\", \"VTA.AS\"]\n",
    "display(len(droppy))\n",
    "\n",
    "df = df.drop(columns=droppy)"
   ]
  },
  {
   "cell_type": "markdown",
   "metadata": {},
   "source": [
    "## 4) Conversion of GBP and EUR into USD 3129 -> 2996, 4120 -> 4372 rows\n",
    "* Takes about 7 min"
   ]
  },
  {
   "cell_type": "code",
   "execution_count": null,
   "metadata": {},
   "outputs": [],
   "source": [
    "# Currencies to be converted into USD\n",
    "currencies = [\"GBP\", \"EUR\"] "
   ]
  },
  {
   "cell_type": "code",
   "execution_count": null,
   "metadata": {},
   "outputs": [],
   "source": [
    "def merge_currencies():\n",
    "    \n",
    "    # Adding referential column with dates: 1.1.2004 - 31.12.2019\n",
    "    refer = pd.read_csv(path + \"AIR.L.csv\")\n",
    "    refer = refer[[\"Date\"]].copy()\n",
    "    refer['Date'] = pd.to_datetime(refer['Date'])\n",
    "    refer = refer[ refer.Date < pd.Timestamp(date(2020,1,1))].copy()\n",
    "    refer = refer[ pd.Timestamp(date(2003,12, 31)) < refer.Date].copy()\n",
    "    refer.reset_index(inplace = True, drop = True)\n",
    "\n",
    "    for i in currencies:\n",
    "\n",
    "        # Selects only stocks of the given currency \n",
    "        group = names[names.Currency == i]\n",
    "        group = group.Quotes\n",
    "\n",
    "        # Creates a history of exchange rates for the given currency -> USD\n",
    "        curr = pd.read_csv(path + \"USD\" + i + \"=X.csv\")    \n",
    "        curr = curr[[\"Date\", \"Close\"]].copy()   ## !!!!!! Změna !!!\n",
    "        curr['Date'] = pd.to_datetime(curr['Date'])\n",
    "        curr = curr[ curr.Date < pd.Timestamp(date(2020,1,1))].copy()\n",
    "        curr = curr[ pd.Timestamp(date(2003,12, 31)) < curr.Date].copy()\n",
    "        curr.reset_index(inplace = True, drop = True)\n",
    "\n",
    "        for j in group:\n",
    "            try:\n",
    "                # For each stock of our \"currency group\" select Close price in the given Date range\n",
    "                s = pd.read_csv(path + j + \".csv\")\n",
    "                s = s[[\"Date\", \"Close\"]].copy()       ## !!!!!! Změna !!!\n",
    "                s['Date'] = pd.to_datetime(s['Date'])\n",
    "                s = s[ s.Date < pd.Timestamp(date(2020,1,1))].copy()\n",
    "                s = s[ pd.Timestamp(date(2003,12, 31)) < s.Date].copy()\n",
    "                s.reset_index(inplace = True, drop = True)\n",
    "\n",
    "                # Combines exchange rate and daily price and converts it\n",
    "                mix = pd.merge(s, curr, on=['Date'], how = \"left\")           \n",
    "                mix[j] = mix[\"Close_x\"]/mix[\"Close_y\"]   \n",
    "                \n",
    "                # New column is named after the stock\n",
    "                mix = mix[[\"Date\", j]]                                   \n",
    "\n",
    "                # Adding newly converted prices to the overall df\n",
    "                refer = pd.merge(refer, mix, on = [\"Date\"], how = \"outer\")  \n",
    "                refer = refer.sort_values(by=\"Date\")\n",
    "                refer = reger.reset_index(inplace = True, drop = True)\n",
    "\n",
    "            except:\n",
    "                pass\n",
    "            \n",
    "    ####################################################################\n",
    "    ### Adding the non-converted data of USD stocks in the simmilar way\n",
    "    ####################################################################\n",
    "            \n",
    "    # Vytvoří skupinu všech Quotes daných měn\n",
    "    group = names[names.Currency == \"USD\"]\n",
    "    group = group.Quotes\n",
    "\n",
    "    for j in group:\n",
    "        try:\n",
    "            s = pd.read_csv(\"C:/Users/jiri.zelenka/Desktop/Python/Diplomka - AKCIE/stocks/3208 resp 3068/\" + j + \".csv\")\n",
    "            s = s[[\"Date\", \"Close\"]].copy()      \n",
    "            s['Date'] = pd.to_datetime(s['Date'])\n",
    "            s = s[ s.Date < pd.Timestamp(date(2020,1,1))].copy()\n",
    "            s = s[ pd.Timestamp(date(2003,12, 31)) < s.Date].copy()\n",
    "            s.reset_index(inplace = True, drop = True)\n",
    "\n",
    "            # Simply takes the column, no conversion\n",
    "            mix = s.copy()\n",
    "            mix[j] = mix[\"Close\"]            \n",
    "            mix = mix[[\"Date\", j]]                                     \n",
    "\n",
    "            refer = pd.merge(refer, mix, on = [\"Date\"], how = \"outer\")  \n",
    "            refer = refer.sort_values(by=\"Date\")\n",
    "            refer = reger.reset_index(inplace = True, drop = True)\n",
    "\n",
    "        except:\n",
    "            pass\n",
    "\n",
    "    return refer\n",
    " "
   ]
  },
  {
   "cell_type": "code",
   "execution_count": 17,
   "metadata": {},
   "outputs": [
    {
     "data": {
      "text/html": [
       "<div>\n",
       "<style scoped>\n",
       "    .dataframe tbody tr th:only-of-type {\n",
       "        vertical-align: middle;\n",
       "    }\n",
       "\n",
       "    .dataframe tbody tr th {\n",
       "        vertical-align: top;\n",
       "    }\n",
       "\n",
       "    .dataframe thead th {\n",
       "        text-align: right;\n",
       "    }\n",
       "</style>\n",
       "<table border=\"1\" class=\"dataframe\">\n",
       "  <thead>\n",
       "    <tr style=\"text-align: right;\">\n",
       "      <th></th>\n",
       "      <th>Unnamed: 0</th>\n",
       "      <th>Date</th>\n",
       "      <th>3IN.L</th>\n",
       "      <th>46HA.L</th>\n",
       "      <th>7DIG.L</th>\n",
       "      <th>888.L</th>\n",
       "      <th>AA.L</th>\n",
       "      <th>AA4.L</th>\n",
       "      <th>AAA.L</th>\n",
       "      <th>AAAP.L</th>\n",
       "      <th>...</th>\n",
       "      <th>VWAGY</th>\n",
       "      <th>VZ</th>\n",
       "      <th>WHELF</th>\n",
       "      <th>WIMHY</th>\n",
       "      <th>WISKF</th>\n",
       "      <th>WPP</th>\n",
       "      <th>XPO</th>\n",
       "      <th>YTRA</th>\n",
       "      <th>ZDGGF</th>\n",
       "      <th>Return</th>\n",
       "    </tr>\n",
       "  </thead>\n",
       "  <tbody>\n",
       "    <tr>\n",
       "      <th>0</th>\n",
       "      <td>0</td>\n",
       "      <td>2004-01-01</td>\n",
       "      <td>NaN</td>\n",
       "      <td>NaN</td>\n",
       "      <td>553.413310</td>\n",
       "      <td>NaN</td>\n",
       "      <td>NaN</td>\n",
       "      <td>NaN</td>\n",
       "      <td>NaN</td>\n",
       "      <td>NaN</td>\n",
       "      <td>...</td>\n",
       "      <td>NaN</td>\n",
       "      <td>NaN</td>\n",
       "      <td>NaN</td>\n",
       "      <td>NaN</td>\n",
       "      <td>NaN</td>\n",
       "      <td>NaN</td>\n",
       "      <td>NaN</td>\n",
       "      <td>NaN</td>\n",
       "      <td>NaN</td>\n",
       "      <td>0.00000</td>\n",
       "    </tr>\n",
       "    <tr>\n",
       "      <th>1</th>\n",
       "      <td>1</td>\n",
       "      <td>2004-01-02</td>\n",
       "      <td>NaN</td>\n",
       "      <td>NaN</td>\n",
       "      <td>556.043838</td>\n",
       "      <td>NaN</td>\n",
       "      <td>NaN</td>\n",
       "      <td>NaN</td>\n",
       "      <td>NaN</td>\n",
       "      <td>NaN</td>\n",
       "      <td>...</td>\n",
       "      <td>NaN</td>\n",
       "      <td>31.701128</td>\n",
       "      <td>NaN</td>\n",
       "      <td>NaN</td>\n",
       "      <td>NaN</td>\n",
       "      <td>49.500000</td>\n",
       "      <td>5.24</td>\n",
       "      <td>NaN</td>\n",
       "      <td>NaN</td>\n",
       "      <td>0.03011</td>\n",
       "    </tr>\n",
       "    <tr>\n",
       "      <th>2</th>\n",
       "      <td>2</td>\n",
       "      <td>2004-01-05</td>\n",
       "      <td>NaN</td>\n",
       "      <td>NaN</td>\n",
       "      <td>560.234214</td>\n",
       "      <td>NaN</td>\n",
       "      <td>NaN</td>\n",
       "      <td>NaN</td>\n",
       "      <td>NaN</td>\n",
       "      <td>NaN</td>\n",
       "      <td>...</td>\n",
       "      <td>NaN</td>\n",
       "      <td>32.618435</td>\n",
       "      <td>NaN</td>\n",
       "      <td>NaN</td>\n",
       "      <td>NaN</td>\n",
       "      <td>51.270000</td>\n",
       "      <td>5.24</td>\n",
       "      <td>NaN</td>\n",
       "      <td>NaN</td>\n",
       "      <td>0.01296</td>\n",
       "    </tr>\n",
       "    <tr>\n",
       "      <th>3</th>\n",
       "      <td>3</td>\n",
       "      <td>2004-01-06</td>\n",
       "      <td>NaN</td>\n",
       "      <td>NaN</td>\n",
       "      <td>564.601319</td>\n",
       "      <td>NaN</td>\n",
       "      <td>NaN</td>\n",
       "      <td>NaN</td>\n",
       "      <td>NaN</td>\n",
       "      <td>NaN</td>\n",
       "      <td>...</td>\n",
       "      <td>NaN</td>\n",
       "      <td>33.158031</td>\n",
       "      <td>NaN</td>\n",
       "      <td>NaN</td>\n",
       "      <td>NaN</td>\n",
       "      <td>51.750000</td>\n",
       "      <td>5.40</td>\n",
       "      <td>NaN</td>\n",
       "      <td>NaN</td>\n",
       "      <td>0.00624</td>\n",
       "    </tr>\n",
       "    <tr>\n",
       "      <th>4</th>\n",
       "      <td>4</td>\n",
       "      <td>2004-01-07</td>\n",
       "      <td>NaN</td>\n",
       "      <td>NaN</td>\n",
       "      <td>563.513415</td>\n",
       "      <td>NaN</td>\n",
       "      <td>NaN</td>\n",
       "      <td>NaN</td>\n",
       "      <td>NaN</td>\n",
       "      <td>NaN</td>\n",
       "      <td>...</td>\n",
       "      <td>NaN</td>\n",
       "      <td>32.879238</td>\n",
       "      <td>NaN</td>\n",
       "      <td>NaN</td>\n",
       "      <td>NaN</td>\n",
       "      <td>52.380001</td>\n",
       "      <td>6.00</td>\n",
       "      <td>NaN</td>\n",
       "      <td>NaN</td>\n",
       "      <td>-0.00264</td>\n",
       "    </tr>\n",
       "  </tbody>\n",
       "</table>\n",
       "<p>5 rows × 2947 columns</p>\n",
       "</div>"
      ],
      "text/plain": [
       "   Unnamed: 0        Date  3IN.L  46HA.L      7DIG.L  888.L  AA.L  AA4.L  \\\n",
       "0           0  2004-01-01    NaN     NaN  553.413310    NaN   NaN    NaN   \n",
       "1           1  2004-01-02    NaN     NaN  556.043838    NaN   NaN    NaN   \n",
       "2           2  2004-01-05    NaN     NaN  560.234214    NaN   NaN    NaN   \n",
       "3           3  2004-01-06    NaN     NaN  564.601319    NaN   NaN    NaN   \n",
       "4           4  2004-01-07    NaN     NaN  563.513415    NaN   NaN    NaN   \n",
       "\n",
       "   AAA.L  AAAP.L   ...     VWAGY         VZ  WHELF  WIMHY  WISKF        WPP  \\\n",
       "0    NaN     NaN   ...       NaN        NaN    NaN    NaN    NaN        NaN   \n",
       "1    NaN     NaN   ...       NaN  31.701128    NaN    NaN    NaN  49.500000   \n",
       "2    NaN     NaN   ...       NaN  32.618435    NaN    NaN    NaN  51.270000   \n",
       "3    NaN     NaN   ...       NaN  33.158031    NaN    NaN    NaN  51.750000   \n",
       "4    NaN     NaN   ...       NaN  32.879238    NaN    NaN    NaN  52.380001   \n",
       "\n",
       "    XPO  YTRA  ZDGGF   Return  \n",
       "0   NaN   NaN    NaN  0.00000  \n",
       "1  5.24   NaN    NaN  0.03011  \n",
       "2  5.24   NaN    NaN  0.01296  \n",
       "3  5.40   NaN    NaN  0.00624  \n",
       "4  6.00   NaN    NaN -0.00264  \n",
       "\n",
       "[5 rows x 2947 columns]"
      ]
     },
     "execution_count": 17,
     "metadata": {},
     "output_type": "execute_result"
    }
   ],
   "source": [
    "## 7 mins !  \n",
    "## Converts all the currencies into USD\n",
    "\n",
    "df = merge_currencies()\n",
    "df.head()\n"
   ]
  },
  {
   "cell_type": "markdown",
   "metadata": {},
   "source": [
    "### 4.1) Little inspection"
   ]
  },
  {
   "cell_type": "code",
   "execution_count": 18,
   "metadata": {},
   "outputs": [
    {
     "data": {
      "text/plain": [
       "0       1060.409276\n",
       "1        741.450860\n",
       "2        744.030962\n",
       "3        738.781354\n",
       "4        732.253709\n",
       "5        744.342893\n",
       "6        755.150838\n",
       "7        741.281506\n",
       "8        737.030940\n",
       "9        735.365803\n",
       "10       745.538509\n",
       "11       748.744776\n",
       "12       750.948182\n",
       "13       743.519715\n",
       "14       753.330993\n",
       "15       776.515924\n",
       "16       774.971999\n",
       "17       774.036651\n",
       "18       777.831578\n",
       "19       759.594277\n",
       "20       768.130812\n",
       "21       767.134153\n",
       "22       752.790111\n",
       "23       759.513528\n",
       "24       765.223010\n",
       "25       760.695394\n",
       "26       777.375205\n",
       "27       779.276510\n",
       "28       802.813234\n",
       "29       809.528377\n",
       "           ...     \n",
       "4067     276.487073\n",
       "4068     275.251068\n",
       "4069     274.541586\n",
       "4070     275.660140\n",
       "4071     276.473193\n",
       "4072     278.578170\n",
       "4073     279.027454\n",
       "4074     280.346313\n",
       "4075     279.025640\n",
       "4076     277.489270\n",
       "4077     275.831342\n",
       "4078     277.786643\n",
       "4079     280.002983\n",
       "4080     282.401622\n",
       "4081     281.971101\n",
       "4082     280.777525\n",
       "4083     279.711367\n",
       "4084     281.854417\n",
       "4085     292.868918\n",
       "4086     295.007572\n",
       "4087     292.457991\n",
       "4088     289.935737\n",
       "4089     289.287525\n",
       "4090     289.284910\n",
       "4091     290.611333\n",
       "4092     290.312051\n",
       "4093     291.315988\n",
       "4094     292.337682\n",
       "4095     293.486885\n",
       "4096     339.146841\n",
       "Length: 4097, dtype: float64"
      ]
     },
     "execution_count": 18,
     "metadata": {},
     "output_type": "execute_result"
    }
   ],
   "source": [
    "df.count().mean()  # Average number of the days traded\n",
    "df.count(axis = 1).mean() # Average number of stocks traded per day\n",
    "df.mean(axis = 1)  # Average daily price in USD"
   ]
  },
  {
   "cell_type": "markdown",
   "metadata": {},
   "source": [
    "## 5) Equally weighted portfolio"
   ]
  },
  {
   "cell_type": "markdown",
   "metadata": {},
   "source": [
    "### 5.1) Cutting extreme values - rare occurencies"
   ]
  },
  {
   "cell_type": "code",
   "execution_count": null,
   "metadata": {},
   "outputs": [],
   "source": [
    "def correction(df):\n",
    "    \n",
    "    corrected = 0\n",
    "    \n",
    "    # Edit all coulmns but Date column\n",
    "    for i in df.columns[df.columns !='Date']:\n",
    "        \n",
    "        x = df[i].dropna()\n",
    "        \n",
    "        for j in range(len(x)-2):\n",
    "            if (abs(x.iloc[j+1] - x.iloc[j]) > 1.5*abs(x.iloc[j]) ) & (abs(x.iloc[j+1] - x.iloc[j+2]) > 1.5*abs(x.iloc[j+2])) | \\\n",
    "            (abs(x.iloc[j+1] - x.iloc[j]) > 1.5*abs(x.iloc[j+1]) ) & (abs(x.iloc[j+1] - x.iloc[j+2]) > 1.5*abs(x.dropna().iloc[j+1])):\n",
    "                #  If there are  extreme changes in the consecutive values, meaning more than 150 % daily growth/decline\n",
    "                \n",
    "                ###  compared to the original [j] and final [j+2] value, if difference is bigger than initial value  \n",
    "                ### compared to the middle value, if difference is bigger than this value\n",
    "\n",
    "                ### !! iloc[] works with relative order, loc[] loc works with the actual index (if is is not reset, it differs from iloc)\n",
    "                \n",
    "                df[i].loc[df[df[i] == x.iloc[j+1]].index.tolist()[0]] = (x.iloc[j] + x.iloc[j+2])/2\n",
    "                #      [ This is index where X has problematic value]  ->  # Replace with mean of surrounding values from \n",
    "                # df is original dataframe, loc[] finds the row where value df[i] equals the suspiscious df[i].dropna().iloc[j+i]\n",
    "                \n",
    "                corrected +=1\n",
    "\n",
    "    print(corrected)  # 7.363 values total\n",
    "    return df"
   ]
  },
  {
   "cell_type": "code",
   "execution_count": null,
   "metadata": {},
   "outputs": [],
   "source": [
    "df = correction(df)"
   ]
  },
  {
   "cell_type": "markdown",
   "metadata": {},
   "source": [
    "### 5.2) Filling NaN values\n",
    "* !! Worked better if the 3.000 columns were split into 6x dfs of 500 columns"
   ]
  },
  {
   "cell_type": "code",
   "execution_count": null,
   "metadata": {},
   "outputs": [],
   "source": [
    "\n",
    "def fillNaNs(df):\n",
    "    \n",
    "    # for all but the first column:\n",
    "    for i in df.columns:\n",
    "        for j in range(1,len(df)-1):  \n",
    "            \n",
    "            # If there is a NUMBER - SPACE - NUMBER, fill it with their mean\n",
    "            if (np.isnan(df[i].iloc[j])) & (np.isfinite(df[i].iloc[j-1])) & (np.isfinite(df[i].iloc[j+1])):\n",
    "                df[i].iloc[j] = (df[i].iloc[j-1]+df[i].iloc[j+1])/2\n",
    "                \n",
    "            # if there is NUMBER - SPACE - SPACE\n",
    "            elif (np.isnan(df[i].iloc[j])) & (np.isfinite(df[i].iloc[j-1])) & (np.isnan(df[i].iloc[j+1])):\n",
    "                \n",
    "                # try to find the end of spaces\n",
    "                try:\n",
    "                    a = df[i].iloc[j:].first_valid_index()\n",
    "                    step = (df[i].iloc[a] - df[i].iloc[j-1])/(a-j-1)\n",
    "                    # (a-j-1) = number of steps I need to divide my filled value\n",
    "\n",
    "                    # In the first SPACE ending before the las NUMBER\n",
    "                    for k in range(j, a):        \n",
    "                        df[i].iloc[k] = df[i].iloc[k-1] + step\n",
    "\n",
    "                except:\n",
    "                    pass\n",
    "\n",
    "    return df"
   ]
  },
  {
   "cell_type": "code",
   "execution_count": null,
   "metadata": {},
   "outputs": [],
   "source": [
    "df = fillNaNs(df)"
   ]
  },
  {
   "cell_type": "markdown",
   "metadata": {},
   "source": [
    "### 5.3) Calculate Returns of portfolio"
   ]
  },
  {
   "cell_type": "code",
   "execution_count": null,
   "metadata": {},
   "outputs": [],
   "source": [
    "def returns(df):\n",
    "    \n",
    "    # Separate Date column\n",
    "    df_date = df.Date\n",
    "    df = df[df.columns.difference(['Date'])]\n",
    "    \n",
    "    # Create list of 0 returns\n",
    "    df[\"Return\"] = [0] * len(df)\n",
    "    \n",
    "    # STart with the second line\n",
    "    for i in range(1,len(df)):\n",
    "        \n",
    "                            #    take value[For columns but Return itself  ]       / Divide by the previous value                    ) take their mean\n",
    "        df[\"Return\"].iloc[i] = round(((df[df.columns.difference(['Return'])].iloc[i]/df[df.columns.difference(['Return'])].iloc[i-1]).mean()-1), 5)\n",
    "    \n",
    "    # concat Date and Prices and Returns altogether\n",
    "    df = pd.concat([df_date, df], axis=1, sort=False)\n",
    "\n",
    "    return df"
   ]
  },
  {
   "cell_type": "code",
   "execution_count": 24,
   "metadata": {},
   "outputs": [
    {
     "data": {
      "text/plain": [
       "0    0.00000\n",
       "1    0.03011\n",
       "2    0.01296\n",
       "3    0.00624\n",
       "4   -0.00264\n",
       "Name: Return, dtype: float64"
      ]
     },
     "execution_count": 24,
     "metadata": {},
     "output_type": "execute_result"
    }
   ],
   "source": [
    "df = returns(df)\n",
    "df.Return.head()"
   ]
  },
  {
   "cell_type": "markdown",
   "metadata": {},
   "source": [
    "## 6) Plotting Returns"
   ]
  },
  {
   "cell_type": "code",
   "execution_count": 25,
   "metadata": {},
   "outputs": [
    {
     "data": {
      "text/plain": [
       "[<matplotlib.lines.Line2D at 0x1f2d29fd6a0>]"
      ]
     },
     "execution_count": 25,
     "metadata": {},
     "output_type": "execute_result"
    },
    {
     "data": {
      "image/png": "[encoded data removed]",
      "text/plain": [
       "<Figure size 1008x576 with 1 Axes>"
      ]
     },
     "metadata": {},
     "output_type": "display_data"
    }
   ],
   "source": [
    "fig = plt.gcf()\n",
    "fig.set_size_inches(14,8)\n",
    "\n",
    "plt.plot(df[\"Return\"])"
   ]
  },
  {
   "cell_type": "markdown",
   "metadata": {},
   "source": [
    "## 7) The end of the Part 2"
   ]
  }
 ],
 "metadata": {
  "kernelspec": {
   "display_name": "Python 3",
   "language": "python",
   "name": "python3"
  },
  "language_info": {
   "codemirror_mode": {
    "name": "ipython",
    "version": 3
   },
   "file_extension": ".py",
   "mimetype": "text/x-python",
   "name": "python",
   "nbconvert_exporter": "python",
   "pygments_lexer": "ipython3",
   "version": "3.6.5"
  }
 },
 "nbformat": 4,
 "nbformat_minor": 4
}
